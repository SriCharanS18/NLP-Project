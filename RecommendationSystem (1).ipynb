{
 "cells": [
  {
   "cell_type": "code",
   "execution_count": 1,
   "id": "17b3b64c",
   "metadata": {
    "ExecuteTime": {
     "end_time": "2021-12-27T08:38:03.586508Z",
     "start_time": "2021-12-27T08:37:48.818075Z"
    }
   },
   "outputs": [],
   "source": [
    "# Importing necessary libraries\n",
    "import pandas as pd\n",
    "import numpy as np\n",
    "import matplotlib.pyplot as plt"
   ]
  },
  {
   "cell_type": "code",
   "execution_count": 3,
   "id": "a961b96d",
   "metadata": {
    "ExecuteTime": {
     "end_time": "2021-12-27T08:38:52.187295Z",
     "start_time": "2021-12-27T08:38:51.890428Z"
    }
   },
   "outputs": [
    {
     "data": {
      "text/html": [
       "<div>\n",
       "<style scoped>\n",
       "    .dataframe tbody tr th:only-of-type {\n",
       "        vertical-align: middle;\n",
       "    }\n",
       "\n",
       "    .dataframe tbody tr th {\n",
       "        vertical-align: top;\n",
       "    }\n",
       "\n",
       "    .dataframe thead th {\n",
       "        text-align: right;\n",
       "    }\n",
       "</style>\n",
       "<table border=\"1\" class=\"dataframe\">\n",
       "  <thead>\n",
       "    <tr style=\"text-align: right;\">\n",
       "      <th></th>\n",
       "      <th>Unnamed: 0</th>\n",
       "      <th>User.ID</th>\n",
       "      <th>Book.Title</th>\n",
       "      <th>Book.Rating</th>\n",
       "    </tr>\n",
       "  </thead>\n",
       "  <tbody>\n",
       "    <tr>\n",
       "      <th>0</th>\n",
       "      <td>1</td>\n",
       "      <td>276726</td>\n",
       "      <td>Classical Mythology</td>\n",
       "      <td>5</td>\n",
       "    </tr>\n",
       "    <tr>\n",
       "      <th>1</th>\n",
       "      <td>2</td>\n",
       "      <td>276729</td>\n",
       "      <td>Clara Callan</td>\n",
       "      <td>3</td>\n",
       "    </tr>\n",
       "    <tr>\n",
       "      <th>2</th>\n",
       "      <td>3</td>\n",
       "      <td>276729</td>\n",
       "      <td>Decision in Normandy</td>\n",
       "      <td>6</td>\n",
       "    </tr>\n",
       "    <tr>\n",
       "      <th>3</th>\n",
       "      <td>4</td>\n",
       "      <td>276736</td>\n",
       "      <td>Flu: The Story of the Great Influenza Pandemic...</td>\n",
       "      <td>8</td>\n",
       "    </tr>\n",
       "    <tr>\n",
       "      <th>4</th>\n",
       "      <td>5</td>\n",
       "      <td>276737</td>\n",
       "      <td>The Mummies of Urumchi</td>\n",
       "      <td>6</td>\n",
       "    </tr>\n",
       "  </tbody>\n",
       "</table>\n",
       "</div>"
      ],
      "text/plain": [
       "   Unnamed: 0  User.ID                                         Book.Title  \\\n",
       "0           1   276726                                Classical Mythology   \n",
       "1           2   276729                                       Clara Callan   \n",
       "2           3   276729                               Decision in Normandy   \n",
       "3           4   276736  Flu: The Story of the Great Influenza Pandemic...   \n",
       "4           5   276737                             The Mummies of Urumchi   \n",
       "\n",
       "   Book.Rating  \n",
       "0            5  \n",
       "1            3  \n",
       "2            6  \n",
       "3            8  \n",
       "4            6  "
      ]
     },
     "execution_count": 3,
     "metadata": {},
     "output_type": "execute_result"
    }
   ],
   "source": [
    "data=pd.read_csv('book.csv',encoding='latin1')\n",
    "data.head()"
   ]
  },
  {
   "cell_type": "code",
   "execution_count": 4,
   "id": "4bab3745",
   "metadata": {
    "ExecuteTime": {
     "end_time": "2021-12-27T08:41:32.142782Z",
     "start_time": "2021-12-27T08:41:32.086516Z"
    }
   },
   "outputs": [],
   "source": [
    "data=data.drop(['Unnamed: 0'],axis=1)"
   ]
  },
  {
   "cell_type": "code",
   "execution_count": 5,
   "id": "47aea2d0",
   "metadata": {
    "ExecuteTime": {
     "end_time": "2021-12-27T08:41:33.053827Z",
     "start_time": "2021-12-27T08:41:33.028811Z"
    }
   },
   "outputs": [
    {
     "data": {
      "text/html": [
       "<div>\n",
       "<style scoped>\n",
       "    .dataframe tbody tr th:only-of-type {\n",
       "        vertical-align: middle;\n",
       "    }\n",
       "\n",
       "    .dataframe tbody tr th {\n",
       "        vertical-align: top;\n",
       "    }\n",
       "\n",
       "    .dataframe thead th {\n",
       "        text-align: right;\n",
       "    }\n",
       "</style>\n",
       "<table border=\"1\" class=\"dataframe\">\n",
       "  <thead>\n",
       "    <tr style=\"text-align: right;\">\n",
       "      <th></th>\n",
       "      <th>ID</th>\n",
       "      <th>Book_Title</th>\n",
       "      <th>Book_Rating</th>\n",
       "    </tr>\n",
       "  </thead>\n",
       "  <tbody>\n",
       "    <tr>\n",
       "      <th>0</th>\n",
       "      <td>276726</td>\n",
       "      <td>Classical Mythology</td>\n",
       "      <td>5</td>\n",
       "    </tr>\n",
       "    <tr>\n",
       "      <th>1</th>\n",
       "      <td>276729</td>\n",
       "      <td>Clara Callan</td>\n",
       "      <td>3</td>\n",
       "    </tr>\n",
       "    <tr>\n",
       "      <th>2</th>\n",
       "      <td>276729</td>\n",
       "      <td>Decision in Normandy</td>\n",
       "      <td>6</td>\n",
       "    </tr>\n",
       "    <tr>\n",
       "      <th>3</th>\n",
       "      <td>276736</td>\n",
       "      <td>Flu: The Story of the Great Influenza Pandemic...</td>\n",
       "      <td>8</td>\n",
       "    </tr>\n",
       "    <tr>\n",
       "      <th>4</th>\n",
       "      <td>276737</td>\n",
       "      <td>The Mummies of Urumchi</td>\n",
       "      <td>6</td>\n",
       "    </tr>\n",
       "    <tr>\n",
       "      <th>...</th>\n",
       "      <td>...</td>\n",
       "      <td>...</td>\n",
       "      <td>...</td>\n",
       "    </tr>\n",
       "    <tr>\n",
       "      <th>9995</th>\n",
       "      <td>162121</td>\n",
       "      <td>American Fried: Adventures of a Happy Eater.</td>\n",
       "      <td>7</td>\n",
       "    </tr>\n",
       "    <tr>\n",
       "      <th>9996</th>\n",
       "      <td>162121</td>\n",
       "      <td>Cannibal In Manhattan</td>\n",
       "      <td>9</td>\n",
       "    </tr>\n",
       "    <tr>\n",
       "      <th>9997</th>\n",
       "      <td>162121</td>\n",
       "      <td>How to Flirt: A Practical Guide</td>\n",
       "      <td>7</td>\n",
       "    </tr>\n",
       "    <tr>\n",
       "      <th>9998</th>\n",
       "      <td>162121</td>\n",
       "      <td>Twilight</td>\n",
       "      <td>8</td>\n",
       "    </tr>\n",
       "    <tr>\n",
       "      <th>9999</th>\n",
       "      <td>162129</td>\n",
       "      <td>Kids Say the Darndest Things</td>\n",
       "      <td>6</td>\n",
       "    </tr>\n",
       "  </tbody>\n",
       "</table>\n",
       "<p>10000 rows × 3 columns</p>\n",
       "</div>"
      ],
      "text/plain": [
       "          ID                                         Book_Title  Book_Rating\n",
       "0     276726                                Classical Mythology            5\n",
       "1     276729                                       Clara Callan            3\n",
       "2     276729                               Decision in Normandy            6\n",
       "3     276736  Flu: The Story of the Great Influenza Pandemic...            8\n",
       "4     276737                             The Mummies of Urumchi            6\n",
       "...      ...                                                ...          ...\n",
       "9995  162121       American Fried: Adventures of a Happy Eater.            7\n",
       "9996  162121                              Cannibal In Manhattan            9\n",
       "9997  162121                    How to Flirt: A Practical Guide            7\n",
       "9998  162121                                           Twilight            8\n",
       "9999  162129                       Kids Say the Darndest Things            6\n",
       "\n",
       "[10000 rows x 3 columns]"
      ]
     },
     "execution_count": 5,
     "metadata": {},
     "output_type": "execute_result"
    }
   ],
   "source": [
    "data=data.rename(columns={'User.ID':'ID','Book.Title':'Book_Title','Book.Rating':'Book_Rating'})\n",
    "data"
   ]
  },
  {
   "cell_type": "code",
   "execution_count": 6,
   "id": "0af2c098",
   "metadata": {
    "ExecuteTime": {
     "end_time": "2021-12-27T08:41:33.700803Z",
     "start_time": "2021-12-27T08:41:33.679791Z"
    }
   },
   "outputs": [
    {
     "name": "stdout",
     "output_type": "stream",
     "text": [
      "<class 'pandas.core.frame.DataFrame'>\n",
      "RangeIndex: 10000 entries, 0 to 9999\n",
      "Data columns (total 3 columns):\n",
      " #   Column       Non-Null Count  Dtype \n",
      "---  ------       --------------  ----- \n",
      " 0   ID           10000 non-null  int64 \n",
      " 1   Book_Title   10000 non-null  object\n",
      " 2   Book_Rating  10000 non-null  int64 \n",
      "dtypes: int64(2), object(1)\n",
      "memory usage: 234.5+ KB\n"
     ]
    }
   ],
   "source": [
    "data.info()\n"
   ]
  },
  {
   "cell_type": "code",
   "execution_count": 7,
   "id": "d7b7e929",
   "metadata": {
    "ExecuteTime": {
     "end_time": "2021-12-27T08:41:34.394143Z",
     "start_time": "2021-12-27T08:41:34.359115Z"
    }
   },
   "outputs": [
    {
     "data": {
      "text/html": [
       "<div>\n",
       "<style scoped>\n",
       "    .dataframe tbody tr th:only-of-type {\n",
       "        vertical-align: middle;\n",
       "    }\n",
       "\n",
       "    .dataframe tbody tr th {\n",
       "        vertical-align: top;\n",
       "    }\n",
       "\n",
       "    .dataframe thead th {\n",
       "        text-align: right;\n",
       "    }\n",
       "</style>\n",
       "<table border=\"1\" class=\"dataframe\">\n",
       "  <thead>\n",
       "    <tr style=\"text-align: right;\">\n",
       "      <th></th>\n",
       "      <th>ID</th>\n",
       "      <th>Book_Rating</th>\n",
       "    </tr>\n",
       "  </thead>\n",
       "  <tbody>\n",
       "    <tr>\n",
       "      <th>count</th>\n",
       "      <td>10000.000000</td>\n",
       "      <td>10000.00000</td>\n",
       "    </tr>\n",
       "    <tr>\n",
       "      <th>mean</th>\n",
       "      <td>95321.249800</td>\n",
       "      <td>7.56630</td>\n",
       "    </tr>\n",
       "    <tr>\n",
       "      <th>std</th>\n",
       "      <td>117645.703609</td>\n",
       "      <td>1.82152</td>\n",
       "    </tr>\n",
       "    <tr>\n",
       "      <th>min</th>\n",
       "      <td>8.000000</td>\n",
       "      <td>1.00000</td>\n",
       "    </tr>\n",
       "    <tr>\n",
       "      <th>25%</th>\n",
       "      <td>2103.000000</td>\n",
       "      <td>7.00000</td>\n",
       "    </tr>\n",
       "    <tr>\n",
       "      <th>50%</th>\n",
       "      <td>3757.000000</td>\n",
       "      <td>8.00000</td>\n",
       "    </tr>\n",
       "    <tr>\n",
       "      <th>75%</th>\n",
       "      <td>162052.000000</td>\n",
       "      <td>9.00000</td>\n",
       "    </tr>\n",
       "    <tr>\n",
       "      <th>max</th>\n",
       "      <td>278854.000000</td>\n",
       "      <td>10.00000</td>\n",
       "    </tr>\n",
       "  </tbody>\n",
       "</table>\n",
       "</div>"
      ],
      "text/plain": [
       "                  ID  Book_Rating\n",
       "count   10000.000000  10000.00000\n",
       "mean    95321.249800      7.56630\n",
       "std    117645.703609      1.82152\n",
       "min         8.000000      1.00000\n",
       "25%      2103.000000      7.00000\n",
       "50%      3757.000000      8.00000\n",
       "75%    162052.000000      9.00000\n",
       "max    278854.000000     10.00000"
      ]
     },
     "execution_count": 7,
     "metadata": {},
     "output_type": "execute_result"
    }
   ],
   "source": [
    "data.describe()\n"
   ]
  },
  {
   "cell_type": "code",
   "execution_count": 8,
   "id": "7cc9673f",
   "metadata": {
    "ExecuteTime": {
     "end_time": "2021-12-27T08:41:34.970280Z",
     "start_time": "2021-12-27T08:41:34.959273Z"
    }
   },
   "outputs": [
    {
     "data": {
      "text/plain": [
       "ID             0\n",
       "Book_Title     0\n",
       "Book_Rating    0\n",
       "dtype: int64"
      ]
     },
     "execution_count": 8,
     "metadata": {},
     "output_type": "execute_result"
    }
   ],
   "source": [
    "data.isnull().sum()\n"
   ]
  },
  {
   "cell_type": "code",
   "execution_count": 9,
   "id": "8aa2bab1",
   "metadata": {
    "ExecuteTime": {
     "end_time": "2021-12-27T08:41:35.659099Z",
     "start_time": "2021-12-27T08:41:35.590686Z"
    }
   },
   "outputs": [
    {
     "data": {
      "text/html": [
       "<div>\n",
       "<style scoped>\n",
       "    .dataframe tbody tr th:only-of-type {\n",
       "        vertical-align: middle;\n",
       "    }\n",
       "\n",
       "    .dataframe tbody tr th {\n",
       "        vertical-align: top;\n",
       "    }\n",
       "\n",
       "    .dataframe thead th {\n",
       "        text-align: right;\n",
       "    }\n",
       "</style>\n",
       "<table border=\"1\" class=\"dataframe\">\n",
       "  <thead>\n",
       "    <tr style=\"text-align: right;\">\n",
       "      <th></th>\n",
       "      <th>ID</th>\n",
       "      <th>Book_Rating</th>\n",
       "    </tr>\n",
       "  </thead>\n",
       "  <tbody>\n",
       "    <tr>\n",
       "      <th>ID</th>\n",
       "      <td>1.000000</td>\n",
       "      <td>-0.041523</td>\n",
       "    </tr>\n",
       "    <tr>\n",
       "      <th>Book_Rating</th>\n",
       "      <td>-0.041523</td>\n",
       "      <td>1.000000</td>\n",
       "    </tr>\n",
       "  </tbody>\n",
       "</table>\n",
       "</div>"
      ],
      "text/plain": [
       "                   ID  Book_Rating\n",
       "ID           1.000000    -0.041523\n",
       "Book_Rating -0.041523     1.000000"
      ]
     },
     "execution_count": 9,
     "metadata": {},
     "output_type": "execute_result"
    }
   ],
   "source": [
    "data.corr()"
   ]
  },
  {
   "cell_type": "code",
   "execution_count": 10,
   "id": "a170877d",
   "metadata": {
    "ExecuteTime": {
     "end_time": "2021-12-27T08:41:36.183968Z",
     "start_time": "2021-12-27T08:41:36.179967Z"
    }
   },
   "outputs": [],
   "source": [
    "df=data.copy()\n"
   ]
  },
  {
   "cell_type": "code",
   "execution_count": 11,
   "id": "19eade11",
   "metadata": {
    "ExecuteTime": {
     "end_time": "2021-12-27T08:41:36.832765Z",
     "start_time": "2021-12-27T08:41:36.820756Z"
    }
   },
   "outputs": [
    {
     "data": {
      "text/html": [
       "<div>\n",
       "<style scoped>\n",
       "    .dataframe tbody tr th:only-of-type {\n",
       "        vertical-align: middle;\n",
       "    }\n",
       "\n",
       "    .dataframe tbody tr th {\n",
       "        vertical-align: top;\n",
       "    }\n",
       "\n",
       "    .dataframe thead th {\n",
       "        text-align: right;\n",
       "    }\n",
       "</style>\n",
       "<table border=\"1\" class=\"dataframe\">\n",
       "  <thead>\n",
       "    <tr style=\"text-align: right;\">\n",
       "      <th></th>\n",
       "      <th>ID</th>\n",
       "      <th>Book_Title</th>\n",
       "      <th>Book_Rating</th>\n",
       "    </tr>\n",
       "  </thead>\n",
       "  <tbody>\n",
       "    <tr>\n",
       "      <th>0</th>\n",
       "      <td>276726</td>\n",
       "      <td>Classical Mythology</td>\n",
       "      <td>5</td>\n",
       "    </tr>\n",
       "    <tr>\n",
       "      <th>1</th>\n",
       "      <td>276729</td>\n",
       "      <td>Clara Callan</td>\n",
       "      <td>3</td>\n",
       "    </tr>\n",
       "  </tbody>\n",
       "</table>\n",
       "</div>"
      ],
      "text/plain": [
       "       ID           Book_Title  Book_Rating\n",
       "0  276726  Classical Mythology            5\n",
       "1  276729         Clara Callan            3"
      ]
     },
     "execution_count": 11,
     "metadata": {},
     "output_type": "execute_result"
    }
   ],
   "source": [
    "df.head(2)\n"
   ]
  },
  {
   "cell_type": "code",
   "execution_count": 12,
   "id": "0427e75b",
   "metadata": {
    "ExecuteTime": {
     "end_time": "2021-12-27T08:41:37.409019Z",
     "start_time": "2021-12-27T08:41:37.370992Z"
    }
   },
   "outputs": [
    {
     "data": {
      "text/plain": [
       "array([276726, 276729, 276736, ..., 162113, 162121, 162129], dtype=int64)"
      ]
     },
     "execution_count": 12,
     "metadata": {},
     "output_type": "execute_result"
    }
   ],
   "source": [
    "df.ID.unique()\n"
   ]
  },
  {
   "cell_type": "code",
   "execution_count": 13,
   "id": "02feab13",
   "metadata": {
    "ExecuteTime": {
     "end_time": "2021-12-27T08:41:37.960391Z",
     "start_time": "2021-12-27T08:41:37.952388Z"
    }
   },
   "outputs": [
    {
     "data": {
      "text/plain": [
       "2182"
      ]
     },
     "execution_count": 13,
     "metadata": {},
     "output_type": "execute_result"
    }
   ],
   "source": [
    "n_users = df.ID.unique().shape[0]\n",
    "n_users"
   ]
  },
  {
   "cell_type": "code",
   "execution_count": 14,
   "id": "cea93a47",
   "metadata": {
    "ExecuteTime": {
     "end_time": "2021-12-27T08:41:38.574990Z",
     "start_time": "2021-12-27T08:41:38.561979Z"
    }
   },
   "outputs": [
    {
     "data": {
      "text/plain": [
       "9659"
      ]
     },
     "execution_count": 14,
     "metadata": {},
     "output_type": "execute_result"
    }
   ],
   "source": [
    "B_items = df.Book_Title.unique().shape[0]\n",
    "B_items"
   ]
  },
  {
   "cell_type": "code",
   "execution_count": 16,
   "id": "6fce8004",
   "metadata": {
    "ExecuteTime": {
     "end_time": "2021-12-27T08:42:00.391717Z",
     "start_time": "2021-12-27T08:41:58.747662Z"
    }
   },
   "outputs": [
    {
     "data": {
      "text/html": [
       "<div>\n",
       "<style scoped>\n",
       "    .dataframe tbody tr th:only-of-type {\n",
       "        vertical-align: middle;\n",
       "    }\n",
       "\n",
       "    .dataframe tbody tr th {\n",
       "        vertical-align: top;\n",
       "    }\n",
       "\n",
       "    .dataframe thead th {\n",
       "        text-align: right;\n",
       "    }\n",
       "</style>\n",
       "<table border=\"1\" class=\"dataframe\">\n",
       "  <thead>\n",
       "    <tr style=\"text-align: right;\">\n",
       "      <th>Book_Title</th>\n",
       "      <th>Jason, Madison &amp;amp</th>\n",
       "      <th>Other Stories;Merril;1985;McClelland &amp;amp</th>\n",
       "      <th>Repairing PC Drives &amp;amp</th>\n",
       "      <th>'48</th>\n",
       "      <th>'O Au No Keia: Voices from Hawai'I's Mahu and Transgender Communities</th>\n",
       "      <th>...AND THE HORSE HE RODE IN ON : THE PEOPLE V. KENNETH STARR</th>\n",
       "      <th>01-01-00: A Novel of the Millennium</th>\n",
       "      <th>1,401 More Things That P*Ss Me Off</th>\n",
       "      <th>10 Commandments Of Dating</th>\n",
       "      <th>100 Great Fantasy Short, Short Stories</th>\n",
       "      <th>...</th>\n",
       "      <th>Zora Hurston and the Chinaberry Tree (Reading Rainbow Book)</th>\n",
       "      <th>\\Even Monkeys Fall from Trees\\ and Other Japanese Proverbs</th>\n",
       "      <th>\\I Won't Learn from You\\: And Other Thoughts on Creative Maladjustment</th>\n",
       "      <th>\\More More More,\\ Said the Baby</th>\n",
       "      <th>\\O\\ Is for Outlaw</th>\n",
       "      <th>\\Surely You're Joking, Mr. Feynman!\\: Adventures of a Curious Character</th>\n",
       "      <th>\\Well, there's your problem\\: Cartoons</th>\n",
       "      <th>iI Paradiso Degli Orchi</th>\n",
       "      <th>stardust</th>\n",
       "      <th>Ã?Â?bermorgen.</th>\n",
       "    </tr>\n",
       "  </thead>\n",
       "  <tbody>\n",
       "    <tr>\n",
       "      <th>0</th>\n",
       "      <td>NaN</td>\n",
       "      <td>NaN</td>\n",
       "      <td>NaN</td>\n",
       "      <td>NaN</td>\n",
       "      <td>NaN</td>\n",
       "      <td>NaN</td>\n",
       "      <td>NaN</td>\n",
       "      <td>NaN</td>\n",
       "      <td>NaN</td>\n",
       "      <td>NaN</td>\n",
       "      <td>...</td>\n",
       "      <td>NaN</td>\n",
       "      <td>NaN</td>\n",
       "      <td>NaN</td>\n",
       "      <td>NaN</td>\n",
       "      <td>NaN</td>\n",
       "      <td>NaN</td>\n",
       "      <td>NaN</td>\n",
       "      <td>NaN</td>\n",
       "      <td>NaN</td>\n",
       "      <td>NaN</td>\n",
       "    </tr>\n",
       "    <tr>\n",
       "      <th>1</th>\n",
       "      <td>NaN</td>\n",
       "      <td>NaN</td>\n",
       "      <td>NaN</td>\n",
       "      <td>NaN</td>\n",
       "      <td>NaN</td>\n",
       "      <td>NaN</td>\n",
       "      <td>NaN</td>\n",
       "      <td>NaN</td>\n",
       "      <td>NaN</td>\n",
       "      <td>NaN</td>\n",
       "      <td>...</td>\n",
       "      <td>NaN</td>\n",
       "      <td>NaN</td>\n",
       "      <td>NaN</td>\n",
       "      <td>NaN</td>\n",
       "      <td>NaN</td>\n",
       "      <td>NaN</td>\n",
       "      <td>NaN</td>\n",
       "      <td>NaN</td>\n",
       "      <td>NaN</td>\n",
       "      <td>NaN</td>\n",
       "    </tr>\n",
       "    <tr>\n",
       "      <th>2</th>\n",
       "      <td>NaN</td>\n",
       "      <td>NaN</td>\n",
       "      <td>NaN</td>\n",
       "      <td>NaN</td>\n",
       "      <td>NaN</td>\n",
       "      <td>NaN</td>\n",
       "      <td>NaN</td>\n",
       "      <td>NaN</td>\n",
       "      <td>NaN</td>\n",
       "      <td>NaN</td>\n",
       "      <td>...</td>\n",
       "      <td>NaN</td>\n",
       "      <td>NaN</td>\n",
       "      <td>NaN</td>\n",
       "      <td>NaN</td>\n",
       "      <td>NaN</td>\n",
       "      <td>NaN</td>\n",
       "      <td>NaN</td>\n",
       "      <td>NaN</td>\n",
       "      <td>NaN</td>\n",
       "      <td>NaN</td>\n",
       "    </tr>\n",
       "    <tr>\n",
       "      <th>3</th>\n",
       "      <td>NaN</td>\n",
       "      <td>NaN</td>\n",
       "      <td>NaN</td>\n",
       "      <td>NaN</td>\n",
       "      <td>NaN</td>\n",
       "      <td>NaN</td>\n",
       "      <td>NaN</td>\n",
       "      <td>NaN</td>\n",
       "      <td>NaN</td>\n",
       "      <td>NaN</td>\n",
       "      <td>...</td>\n",
       "      <td>NaN</td>\n",
       "      <td>NaN</td>\n",
       "      <td>NaN</td>\n",
       "      <td>NaN</td>\n",
       "      <td>NaN</td>\n",
       "      <td>NaN</td>\n",
       "      <td>NaN</td>\n",
       "      <td>NaN</td>\n",
       "      <td>NaN</td>\n",
       "      <td>NaN</td>\n",
       "    </tr>\n",
       "    <tr>\n",
       "      <th>4</th>\n",
       "      <td>NaN</td>\n",
       "      <td>NaN</td>\n",
       "      <td>NaN</td>\n",
       "      <td>NaN</td>\n",
       "      <td>NaN</td>\n",
       "      <td>NaN</td>\n",
       "      <td>NaN</td>\n",
       "      <td>NaN</td>\n",
       "      <td>NaN</td>\n",
       "      <td>NaN</td>\n",
       "      <td>...</td>\n",
       "      <td>NaN</td>\n",
       "      <td>NaN</td>\n",
       "      <td>NaN</td>\n",
       "      <td>NaN</td>\n",
       "      <td>NaN</td>\n",
       "      <td>NaN</td>\n",
       "      <td>NaN</td>\n",
       "      <td>NaN</td>\n",
       "      <td>NaN</td>\n",
       "      <td>NaN</td>\n",
       "    </tr>\n",
       "    <tr>\n",
       "      <th>...</th>\n",
       "      <td>...</td>\n",
       "      <td>...</td>\n",
       "      <td>...</td>\n",
       "      <td>...</td>\n",
       "      <td>...</td>\n",
       "      <td>...</td>\n",
       "      <td>...</td>\n",
       "      <td>...</td>\n",
       "      <td>...</td>\n",
       "      <td>...</td>\n",
       "      <td>...</td>\n",
       "      <td>...</td>\n",
       "      <td>...</td>\n",
       "      <td>...</td>\n",
       "      <td>...</td>\n",
       "      <td>...</td>\n",
       "      <td>...</td>\n",
       "      <td>...</td>\n",
       "      <td>...</td>\n",
       "      <td>...</td>\n",
       "      <td>...</td>\n",
       "    </tr>\n",
       "    <tr>\n",
       "      <th>2177</th>\n",
       "      <td>NaN</td>\n",
       "      <td>NaN</td>\n",
       "      <td>NaN</td>\n",
       "      <td>NaN</td>\n",
       "      <td>NaN</td>\n",
       "      <td>NaN</td>\n",
       "      <td>NaN</td>\n",
       "      <td>NaN</td>\n",
       "      <td>NaN</td>\n",
       "      <td>NaN</td>\n",
       "      <td>...</td>\n",
       "      <td>NaN</td>\n",
       "      <td>NaN</td>\n",
       "      <td>NaN</td>\n",
       "      <td>NaN</td>\n",
       "      <td>NaN</td>\n",
       "      <td>NaN</td>\n",
       "      <td>NaN</td>\n",
       "      <td>NaN</td>\n",
       "      <td>NaN</td>\n",
       "      <td>NaN</td>\n",
       "    </tr>\n",
       "    <tr>\n",
       "      <th>2178</th>\n",
       "      <td>NaN</td>\n",
       "      <td>NaN</td>\n",
       "      <td>NaN</td>\n",
       "      <td>NaN</td>\n",
       "      <td>NaN</td>\n",
       "      <td>NaN</td>\n",
       "      <td>NaN</td>\n",
       "      <td>NaN</td>\n",
       "      <td>NaN</td>\n",
       "      <td>NaN</td>\n",
       "      <td>...</td>\n",
       "      <td>NaN</td>\n",
       "      <td>NaN</td>\n",
       "      <td>NaN</td>\n",
       "      <td>NaN</td>\n",
       "      <td>NaN</td>\n",
       "      <td>NaN</td>\n",
       "      <td>NaN</td>\n",
       "      <td>NaN</td>\n",
       "      <td>NaN</td>\n",
       "      <td>NaN</td>\n",
       "    </tr>\n",
       "    <tr>\n",
       "      <th>2179</th>\n",
       "      <td>NaN</td>\n",
       "      <td>NaN</td>\n",
       "      <td>NaN</td>\n",
       "      <td>NaN</td>\n",
       "      <td>NaN</td>\n",
       "      <td>NaN</td>\n",
       "      <td>NaN</td>\n",
       "      <td>NaN</td>\n",
       "      <td>NaN</td>\n",
       "      <td>NaN</td>\n",
       "      <td>...</td>\n",
       "      <td>NaN</td>\n",
       "      <td>NaN</td>\n",
       "      <td>NaN</td>\n",
       "      <td>NaN</td>\n",
       "      <td>NaN</td>\n",
       "      <td>NaN</td>\n",
       "      <td>NaN</td>\n",
       "      <td>7.0</td>\n",
       "      <td>NaN</td>\n",
       "      <td>NaN</td>\n",
       "    </tr>\n",
       "    <tr>\n",
       "      <th>2180</th>\n",
       "      <td>NaN</td>\n",
       "      <td>NaN</td>\n",
       "      <td>NaN</td>\n",
       "      <td>NaN</td>\n",
       "      <td>NaN</td>\n",
       "      <td>NaN</td>\n",
       "      <td>NaN</td>\n",
       "      <td>NaN</td>\n",
       "      <td>NaN</td>\n",
       "      <td>NaN</td>\n",
       "      <td>...</td>\n",
       "      <td>NaN</td>\n",
       "      <td>NaN</td>\n",
       "      <td>NaN</td>\n",
       "      <td>NaN</td>\n",
       "      <td>NaN</td>\n",
       "      <td>NaN</td>\n",
       "      <td>NaN</td>\n",
       "      <td>NaN</td>\n",
       "      <td>NaN</td>\n",
       "      <td>NaN</td>\n",
       "    </tr>\n",
       "    <tr>\n",
       "      <th>2181</th>\n",
       "      <td>NaN</td>\n",
       "      <td>NaN</td>\n",
       "      <td>NaN</td>\n",
       "      <td>NaN</td>\n",
       "      <td>NaN</td>\n",
       "      <td>NaN</td>\n",
       "      <td>NaN</td>\n",
       "      <td>NaN</td>\n",
       "      <td>NaN</td>\n",
       "      <td>NaN</td>\n",
       "      <td>...</td>\n",
       "      <td>NaN</td>\n",
       "      <td>NaN</td>\n",
       "      <td>NaN</td>\n",
       "      <td>NaN</td>\n",
       "      <td>NaN</td>\n",
       "      <td>NaN</td>\n",
       "      <td>NaN</td>\n",
       "      <td>NaN</td>\n",
       "      <td>NaN</td>\n",
       "      <td>NaN</td>\n",
       "    </tr>\n",
       "  </tbody>\n",
       "</table>\n",
       "<p>2182 rows × 9659 columns</p>\n",
       "</div>"
      ],
      "text/plain": [
       "Book_Title   Jason, Madison &amp   Other Stories;Merril;1985;McClelland &amp  \\\n",
       "0                            NaN                                         NaN   \n",
       "1                            NaN                                         NaN   \n",
       "2                            NaN                                         NaN   \n",
       "3                            NaN                                         NaN   \n",
       "4                            NaN                                         NaN   \n",
       "...                          ...                                         ...   \n",
       "2177                         NaN                                         NaN   \n",
       "2178                         NaN                                         NaN   \n",
       "2179                         NaN                                         NaN   \n",
       "2180                         NaN                                         NaN   \n",
       "2181                         NaN                                         NaN   \n",
       "\n",
       "Book_Title   Repairing PC Drives &amp  '48  \\\n",
       "0                                 NaN  NaN   \n",
       "1                                 NaN  NaN   \n",
       "2                                 NaN  NaN   \n",
       "3                                 NaN  NaN   \n",
       "4                                 NaN  NaN   \n",
       "...                               ...  ...   \n",
       "2177                              NaN  NaN   \n",
       "2178                              NaN  NaN   \n",
       "2179                              NaN  NaN   \n",
       "2180                              NaN  NaN   \n",
       "2181                              NaN  NaN   \n",
       "\n",
       "Book_Title  'O Au No Keia: Voices from Hawai'I's Mahu and Transgender Communities  \\\n",
       "0                                                         NaN                       \n",
       "1                                                         NaN                       \n",
       "2                                                         NaN                       \n",
       "3                                                         NaN                       \n",
       "4                                                         NaN                       \n",
       "...                                                       ...                       \n",
       "2177                                                      NaN                       \n",
       "2178                                                      NaN                       \n",
       "2179                                                      NaN                       \n",
       "2180                                                      NaN                       \n",
       "2181                                                      NaN                       \n",
       "\n",
       "Book_Title  ...AND THE HORSE HE RODE IN ON : THE PEOPLE V. KENNETH STARR  \\\n",
       "0                                                         NaN              \n",
       "1                                                         NaN              \n",
       "2                                                         NaN              \n",
       "3                                                         NaN              \n",
       "4                                                         NaN              \n",
       "...                                                       ...              \n",
       "2177                                                      NaN              \n",
       "2178                                                      NaN              \n",
       "2179                                                      NaN              \n",
       "2180                                                      NaN              \n",
       "2181                                                      NaN              \n",
       "\n",
       "Book_Title  01-01-00: A Novel of the Millennium  \\\n",
       "0                                           NaN   \n",
       "1                                           NaN   \n",
       "2                                           NaN   \n",
       "3                                           NaN   \n",
       "4                                           NaN   \n",
       "...                                         ...   \n",
       "2177                                        NaN   \n",
       "2178                                        NaN   \n",
       "2179                                        NaN   \n",
       "2180                                        NaN   \n",
       "2181                                        NaN   \n",
       "\n",
       "Book_Title  1,401 More Things That P*Ss Me Off  10 Commandments Of Dating  \\\n",
       "0                                          NaN                        NaN   \n",
       "1                                          NaN                        NaN   \n",
       "2                                          NaN                        NaN   \n",
       "3                                          NaN                        NaN   \n",
       "4                                          NaN                        NaN   \n",
       "...                                        ...                        ...   \n",
       "2177                                       NaN                        NaN   \n",
       "2178                                       NaN                        NaN   \n",
       "2179                                       NaN                        NaN   \n",
       "2180                                       NaN                        NaN   \n",
       "2181                                       NaN                        NaN   \n",
       "\n",
       "Book_Title  100 Great Fantasy Short, Short Stories  ...  \\\n",
       "0                                              NaN  ...   \n",
       "1                                              NaN  ...   \n",
       "2                                              NaN  ...   \n",
       "3                                              NaN  ...   \n",
       "4                                              NaN  ...   \n",
       "...                                            ...  ...   \n",
       "2177                                           NaN  ...   \n",
       "2178                                           NaN  ...   \n",
       "2179                                           NaN  ...   \n",
       "2180                                           NaN  ...   \n",
       "2181                                           NaN  ...   \n",
       "\n",
       "Book_Title  Zora Hurston and the Chinaberry Tree (Reading Rainbow Book)  \\\n",
       "0                                                         NaN             \n",
       "1                                                         NaN             \n",
       "2                                                         NaN             \n",
       "3                                                         NaN             \n",
       "4                                                         NaN             \n",
       "...                                                       ...             \n",
       "2177                                                      NaN             \n",
       "2178                                                      NaN             \n",
       "2179                                                      NaN             \n",
       "2180                                                      NaN             \n",
       "2181                                                      NaN             \n",
       "\n",
       "Book_Title  \\Even Monkeys Fall from Trees\\ and Other Japanese Proverbs  \\\n",
       "0                                                         NaN            \n",
       "1                                                         NaN            \n",
       "2                                                         NaN            \n",
       "3                                                         NaN            \n",
       "4                                                         NaN            \n",
       "...                                                       ...            \n",
       "2177                                                      NaN            \n",
       "2178                                                      NaN            \n",
       "2179                                                      NaN            \n",
       "2180                                                      NaN            \n",
       "2181                                                      NaN            \n",
       "\n",
       "Book_Title  \\I Won't Learn from You\\: And Other Thoughts on Creative Maladjustment  \\\n",
       "0                                                         NaN                        \n",
       "1                                                         NaN                        \n",
       "2                                                         NaN                        \n",
       "3                                                         NaN                        \n",
       "4                                                         NaN                        \n",
       "...                                                       ...                        \n",
       "2177                                                      NaN                        \n",
       "2178                                                      NaN                        \n",
       "2179                                                      NaN                        \n",
       "2180                                                      NaN                        \n",
       "2181                                                      NaN                        \n",
       "\n",
       "Book_Title  \\More More More,\\ Said the Baby  \\O\\ Is for Outlaw  \\\n",
       "0                                       NaN                NaN   \n",
       "1                                       NaN                NaN   \n",
       "2                                       NaN                NaN   \n",
       "3                                       NaN                NaN   \n",
       "4                                       NaN                NaN   \n",
       "...                                     ...                ...   \n",
       "2177                                    NaN                NaN   \n",
       "2178                                    NaN                NaN   \n",
       "2179                                    NaN                NaN   \n",
       "2180                                    NaN                NaN   \n",
       "2181                                    NaN                NaN   \n",
       "\n",
       "Book_Title  \\Surely You're Joking, Mr. Feynman!\\: Adventures of a Curious Character  \\\n",
       "0                                                         NaN                         \n",
       "1                                                         NaN                         \n",
       "2                                                         NaN                         \n",
       "3                                                         NaN                         \n",
       "4                                                         NaN                         \n",
       "...                                                       ...                         \n",
       "2177                                                      NaN                         \n",
       "2178                                                      NaN                         \n",
       "2179                                                      NaN                         \n",
       "2180                                                      NaN                         \n",
       "2181                                                      NaN                         \n",
       "\n",
       "Book_Title  \\Well, there's your problem\\: Cartoons  iI Paradiso Degli Orchi  \\\n",
       "0                                              NaN                      NaN   \n",
       "1                                              NaN                      NaN   \n",
       "2                                              NaN                      NaN   \n",
       "3                                              NaN                      NaN   \n",
       "4                                              NaN                      NaN   \n",
       "...                                            ...                      ...   \n",
       "2177                                           NaN                      NaN   \n",
       "2178                                           NaN                      NaN   \n",
       "2179                                           NaN                      7.0   \n",
       "2180                                           NaN                      NaN   \n",
       "2181                                           NaN                      NaN   \n",
       "\n",
       "Book_Title  stardust  Ã?Â?bermorgen.  \n",
       "0                NaN             NaN  \n",
       "1                NaN             NaN  \n",
       "2                NaN             NaN  \n",
       "3                NaN             NaN  \n",
       "4                NaN             NaN  \n",
       "...              ...             ...  \n",
       "2177             NaN             NaN  \n",
       "2178             NaN             NaN  \n",
       "2179             NaN             NaN  \n",
       "2180             NaN             NaN  \n",
       "2181             NaN             NaN  \n",
       "\n",
       "[2182 rows x 9659 columns]"
      ]
     },
     "execution_count": 16,
     "metadata": {},
     "output_type": "execute_result"
    }
   ],
   "source": [
    "book_df = df.pivot_table(index='ID',\n",
    "                   columns='Book_Title',\n",
    "                   values='Book_Rating').reset_index(drop=True)\n",
    "book_df"
   ]
  },
  {
   "cell_type": "code",
   "execution_count": 17,
   "id": "a13efc38",
   "metadata": {
    "ExecuteTime": {
     "end_time": "2021-12-27T08:42:19.575512Z",
     "start_time": "2021-12-27T08:42:19.275254Z"
    }
   },
   "outputs": [
    {
     "data": {
      "text/html": [
       "<div>\n",
       "<style scoped>\n",
       "    .dataframe tbody tr th:only-of-type {\n",
       "        vertical-align: middle;\n",
       "    }\n",
       "\n",
       "    .dataframe tbody tr th {\n",
       "        vertical-align: top;\n",
       "    }\n",
       "\n",
       "    .dataframe thead th {\n",
       "        text-align: right;\n",
       "    }\n",
       "</style>\n",
       "<table border=\"1\" class=\"dataframe\">\n",
       "  <thead>\n",
       "    <tr style=\"text-align: right;\">\n",
       "      <th>Book_Title</th>\n",
       "      <th>Jason, Madison &amp;amp</th>\n",
       "      <th>Other Stories;Merril;1985;McClelland &amp;amp</th>\n",
       "      <th>Repairing PC Drives &amp;amp</th>\n",
       "      <th>'48</th>\n",
       "      <th>'O Au No Keia: Voices from Hawai'I's Mahu and Transgender Communities</th>\n",
       "      <th>...AND THE HORSE HE RODE IN ON : THE PEOPLE V. KENNETH STARR</th>\n",
       "      <th>01-01-00: A Novel of the Millennium</th>\n",
       "      <th>1,401 More Things That P*Ss Me Off</th>\n",
       "      <th>10 Commandments Of Dating</th>\n",
       "      <th>100 Great Fantasy Short, Short Stories</th>\n",
       "      <th>...</th>\n",
       "      <th>Zora Hurston and the Chinaberry Tree (Reading Rainbow Book)</th>\n",
       "      <th>\\Even Monkeys Fall from Trees\\ and Other Japanese Proverbs</th>\n",
       "      <th>\\I Won't Learn from You\\: And Other Thoughts on Creative Maladjustment</th>\n",
       "      <th>\\More More More,\\ Said the Baby</th>\n",
       "      <th>\\O\\ Is for Outlaw</th>\n",
       "      <th>\\Surely You're Joking, Mr. Feynman!\\: Adventures of a Curious Character</th>\n",
       "      <th>\\Well, there's your problem\\: Cartoons</th>\n",
       "      <th>iI Paradiso Degli Orchi</th>\n",
       "      <th>stardust</th>\n",
       "      <th>Ã?Â?bermorgen.</th>\n",
       "    </tr>\n",
       "  </thead>\n",
       "  <tbody>\n",
       "    <tr>\n",
       "      <th>0</th>\n",
       "      <td>0.0</td>\n",
       "      <td>0.0</td>\n",
       "      <td>0.0</td>\n",
       "      <td>0.0</td>\n",
       "      <td>0.0</td>\n",
       "      <td>0.0</td>\n",
       "      <td>0.0</td>\n",
       "      <td>0.0</td>\n",
       "      <td>0.0</td>\n",
       "      <td>0.0</td>\n",
       "      <td>...</td>\n",
       "      <td>0.0</td>\n",
       "      <td>0.0</td>\n",
       "      <td>0.0</td>\n",
       "      <td>0.0</td>\n",
       "      <td>0.0</td>\n",
       "      <td>0.0</td>\n",
       "      <td>0.0</td>\n",
       "      <td>0.0</td>\n",
       "      <td>0.0</td>\n",
       "      <td>0.0</td>\n",
       "    </tr>\n",
       "    <tr>\n",
       "      <th>1</th>\n",
       "      <td>0.0</td>\n",
       "      <td>0.0</td>\n",
       "      <td>0.0</td>\n",
       "      <td>0.0</td>\n",
       "      <td>0.0</td>\n",
       "      <td>0.0</td>\n",
       "      <td>0.0</td>\n",
       "      <td>0.0</td>\n",
       "      <td>0.0</td>\n",
       "      <td>0.0</td>\n",
       "      <td>...</td>\n",
       "      <td>0.0</td>\n",
       "      <td>0.0</td>\n",
       "      <td>0.0</td>\n",
       "      <td>0.0</td>\n",
       "      <td>0.0</td>\n",
       "      <td>0.0</td>\n",
       "      <td>0.0</td>\n",
       "      <td>0.0</td>\n",
       "      <td>0.0</td>\n",
       "      <td>0.0</td>\n",
       "    </tr>\n",
       "    <tr>\n",
       "      <th>2</th>\n",
       "      <td>0.0</td>\n",
       "      <td>0.0</td>\n",
       "      <td>0.0</td>\n",
       "      <td>0.0</td>\n",
       "      <td>0.0</td>\n",
       "      <td>0.0</td>\n",
       "      <td>0.0</td>\n",
       "      <td>0.0</td>\n",
       "      <td>0.0</td>\n",
       "      <td>0.0</td>\n",
       "      <td>...</td>\n",
       "      <td>0.0</td>\n",
       "      <td>0.0</td>\n",
       "      <td>0.0</td>\n",
       "      <td>0.0</td>\n",
       "      <td>0.0</td>\n",
       "      <td>0.0</td>\n",
       "      <td>0.0</td>\n",
       "      <td>0.0</td>\n",
       "      <td>0.0</td>\n",
       "      <td>0.0</td>\n",
       "    </tr>\n",
       "    <tr>\n",
       "      <th>3</th>\n",
       "      <td>0.0</td>\n",
       "      <td>0.0</td>\n",
       "      <td>0.0</td>\n",
       "      <td>0.0</td>\n",
       "      <td>0.0</td>\n",
       "      <td>0.0</td>\n",
       "      <td>0.0</td>\n",
       "      <td>0.0</td>\n",
       "      <td>0.0</td>\n",
       "      <td>0.0</td>\n",
       "      <td>...</td>\n",
       "      <td>0.0</td>\n",
       "      <td>0.0</td>\n",
       "      <td>0.0</td>\n",
       "      <td>0.0</td>\n",
       "      <td>0.0</td>\n",
       "      <td>0.0</td>\n",
       "      <td>0.0</td>\n",
       "      <td>0.0</td>\n",
       "      <td>0.0</td>\n",
       "      <td>0.0</td>\n",
       "    </tr>\n",
       "    <tr>\n",
       "      <th>4</th>\n",
       "      <td>0.0</td>\n",
       "      <td>0.0</td>\n",
       "      <td>0.0</td>\n",
       "      <td>0.0</td>\n",
       "      <td>0.0</td>\n",
       "      <td>0.0</td>\n",
       "      <td>0.0</td>\n",
       "      <td>0.0</td>\n",
       "      <td>0.0</td>\n",
       "      <td>0.0</td>\n",
       "      <td>...</td>\n",
       "      <td>0.0</td>\n",
       "      <td>0.0</td>\n",
       "      <td>0.0</td>\n",
       "      <td>0.0</td>\n",
       "      <td>0.0</td>\n",
       "      <td>0.0</td>\n",
       "      <td>0.0</td>\n",
       "      <td>0.0</td>\n",
       "      <td>0.0</td>\n",
       "      <td>0.0</td>\n",
       "    </tr>\n",
       "    <tr>\n",
       "      <th>...</th>\n",
       "      <td>...</td>\n",
       "      <td>...</td>\n",
       "      <td>...</td>\n",
       "      <td>...</td>\n",
       "      <td>...</td>\n",
       "      <td>...</td>\n",
       "      <td>...</td>\n",
       "      <td>...</td>\n",
       "      <td>...</td>\n",
       "      <td>...</td>\n",
       "      <td>...</td>\n",
       "      <td>...</td>\n",
       "      <td>...</td>\n",
       "      <td>...</td>\n",
       "      <td>...</td>\n",
       "      <td>...</td>\n",
       "      <td>...</td>\n",
       "      <td>...</td>\n",
       "      <td>...</td>\n",
       "      <td>...</td>\n",
       "      <td>...</td>\n",
       "    </tr>\n",
       "    <tr>\n",
       "      <th>2177</th>\n",
       "      <td>0.0</td>\n",
       "      <td>0.0</td>\n",
       "      <td>0.0</td>\n",
       "      <td>0.0</td>\n",
       "      <td>0.0</td>\n",
       "      <td>0.0</td>\n",
       "      <td>0.0</td>\n",
       "      <td>0.0</td>\n",
       "      <td>0.0</td>\n",
       "      <td>0.0</td>\n",
       "      <td>...</td>\n",
       "      <td>0.0</td>\n",
       "      <td>0.0</td>\n",
       "      <td>0.0</td>\n",
       "      <td>0.0</td>\n",
       "      <td>0.0</td>\n",
       "      <td>0.0</td>\n",
       "      <td>0.0</td>\n",
       "      <td>0.0</td>\n",
       "      <td>0.0</td>\n",
       "      <td>0.0</td>\n",
       "    </tr>\n",
       "    <tr>\n",
       "      <th>2178</th>\n",
       "      <td>0.0</td>\n",
       "      <td>0.0</td>\n",
       "      <td>0.0</td>\n",
       "      <td>0.0</td>\n",
       "      <td>0.0</td>\n",
       "      <td>0.0</td>\n",
       "      <td>0.0</td>\n",
       "      <td>0.0</td>\n",
       "      <td>0.0</td>\n",
       "      <td>0.0</td>\n",
       "      <td>...</td>\n",
       "      <td>0.0</td>\n",
       "      <td>0.0</td>\n",
       "      <td>0.0</td>\n",
       "      <td>0.0</td>\n",
       "      <td>0.0</td>\n",
       "      <td>0.0</td>\n",
       "      <td>0.0</td>\n",
       "      <td>0.0</td>\n",
       "      <td>0.0</td>\n",
       "      <td>0.0</td>\n",
       "    </tr>\n",
       "    <tr>\n",
       "      <th>2179</th>\n",
       "      <td>0.0</td>\n",
       "      <td>0.0</td>\n",
       "      <td>0.0</td>\n",
       "      <td>0.0</td>\n",
       "      <td>0.0</td>\n",
       "      <td>0.0</td>\n",
       "      <td>0.0</td>\n",
       "      <td>0.0</td>\n",
       "      <td>0.0</td>\n",
       "      <td>0.0</td>\n",
       "      <td>...</td>\n",
       "      <td>0.0</td>\n",
       "      <td>0.0</td>\n",
       "      <td>0.0</td>\n",
       "      <td>0.0</td>\n",
       "      <td>0.0</td>\n",
       "      <td>0.0</td>\n",
       "      <td>0.0</td>\n",
       "      <td>7.0</td>\n",
       "      <td>0.0</td>\n",
       "      <td>0.0</td>\n",
       "    </tr>\n",
       "    <tr>\n",
       "      <th>2180</th>\n",
       "      <td>0.0</td>\n",
       "      <td>0.0</td>\n",
       "      <td>0.0</td>\n",
       "      <td>0.0</td>\n",
       "      <td>0.0</td>\n",
       "      <td>0.0</td>\n",
       "      <td>0.0</td>\n",
       "      <td>0.0</td>\n",
       "      <td>0.0</td>\n",
       "      <td>0.0</td>\n",
       "      <td>...</td>\n",
       "      <td>0.0</td>\n",
       "      <td>0.0</td>\n",
       "      <td>0.0</td>\n",
       "      <td>0.0</td>\n",
       "      <td>0.0</td>\n",
       "      <td>0.0</td>\n",
       "      <td>0.0</td>\n",
       "      <td>0.0</td>\n",
       "      <td>0.0</td>\n",
       "      <td>0.0</td>\n",
       "    </tr>\n",
       "    <tr>\n",
       "      <th>2181</th>\n",
       "      <td>0.0</td>\n",
       "      <td>0.0</td>\n",
       "      <td>0.0</td>\n",
       "      <td>0.0</td>\n",
       "      <td>0.0</td>\n",
       "      <td>0.0</td>\n",
       "      <td>0.0</td>\n",
       "      <td>0.0</td>\n",
       "      <td>0.0</td>\n",
       "      <td>0.0</td>\n",
       "      <td>...</td>\n",
       "      <td>0.0</td>\n",
       "      <td>0.0</td>\n",
       "      <td>0.0</td>\n",
       "      <td>0.0</td>\n",
       "      <td>0.0</td>\n",
       "      <td>0.0</td>\n",
       "      <td>0.0</td>\n",
       "      <td>0.0</td>\n",
       "      <td>0.0</td>\n",
       "      <td>0.0</td>\n",
       "    </tr>\n",
       "  </tbody>\n",
       "</table>\n",
       "<p>2182 rows × 9659 columns</p>\n",
       "</div>"
      ],
      "text/plain": [
       "Book_Title   Jason, Madison &amp   Other Stories;Merril;1985;McClelland &amp  \\\n",
       "0                            0.0                                         0.0   \n",
       "1                            0.0                                         0.0   \n",
       "2                            0.0                                         0.0   \n",
       "3                            0.0                                         0.0   \n",
       "4                            0.0                                         0.0   \n",
       "...                          ...                                         ...   \n",
       "2177                         0.0                                         0.0   \n",
       "2178                         0.0                                         0.0   \n",
       "2179                         0.0                                         0.0   \n",
       "2180                         0.0                                         0.0   \n",
       "2181                         0.0                                         0.0   \n",
       "\n",
       "Book_Title   Repairing PC Drives &amp  '48  \\\n",
       "0                                 0.0  0.0   \n",
       "1                                 0.0  0.0   \n",
       "2                                 0.0  0.0   \n",
       "3                                 0.0  0.0   \n",
       "4                                 0.0  0.0   \n",
       "...                               ...  ...   \n",
       "2177                              0.0  0.0   \n",
       "2178                              0.0  0.0   \n",
       "2179                              0.0  0.0   \n",
       "2180                              0.0  0.0   \n",
       "2181                              0.0  0.0   \n",
       "\n",
       "Book_Title  'O Au No Keia: Voices from Hawai'I's Mahu and Transgender Communities  \\\n",
       "0                                                         0.0                       \n",
       "1                                                         0.0                       \n",
       "2                                                         0.0                       \n",
       "3                                                         0.0                       \n",
       "4                                                         0.0                       \n",
       "...                                                       ...                       \n",
       "2177                                                      0.0                       \n",
       "2178                                                      0.0                       \n",
       "2179                                                      0.0                       \n",
       "2180                                                      0.0                       \n",
       "2181                                                      0.0                       \n",
       "\n",
       "Book_Title  ...AND THE HORSE HE RODE IN ON : THE PEOPLE V. KENNETH STARR  \\\n",
       "0                                                         0.0              \n",
       "1                                                         0.0              \n",
       "2                                                         0.0              \n",
       "3                                                         0.0              \n",
       "4                                                         0.0              \n",
       "...                                                       ...              \n",
       "2177                                                      0.0              \n",
       "2178                                                      0.0              \n",
       "2179                                                      0.0              \n",
       "2180                                                      0.0              \n",
       "2181                                                      0.0              \n",
       "\n",
       "Book_Title  01-01-00: A Novel of the Millennium  \\\n",
       "0                                           0.0   \n",
       "1                                           0.0   \n",
       "2                                           0.0   \n",
       "3                                           0.0   \n",
       "4                                           0.0   \n",
       "...                                         ...   \n",
       "2177                                        0.0   \n",
       "2178                                        0.0   \n",
       "2179                                        0.0   \n",
       "2180                                        0.0   \n",
       "2181                                        0.0   \n",
       "\n",
       "Book_Title  1,401 More Things That P*Ss Me Off  10 Commandments Of Dating  \\\n",
       "0                                          0.0                        0.0   \n",
       "1                                          0.0                        0.0   \n",
       "2                                          0.0                        0.0   \n",
       "3                                          0.0                        0.0   \n",
       "4                                          0.0                        0.0   \n",
       "...                                        ...                        ...   \n",
       "2177                                       0.0                        0.0   \n",
       "2178                                       0.0                        0.0   \n",
       "2179                                       0.0                        0.0   \n",
       "2180                                       0.0                        0.0   \n",
       "2181                                       0.0                        0.0   \n",
       "\n",
       "Book_Title  100 Great Fantasy Short, Short Stories  ...  \\\n",
       "0                                              0.0  ...   \n",
       "1                                              0.0  ...   \n",
       "2                                              0.0  ...   \n",
       "3                                              0.0  ...   \n",
       "4                                              0.0  ...   \n",
       "...                                            ...  ...   \n",
       "2177                                           0.0  ...   \n",
       "2178                                           0.0  ...   \n",
       "2179                                           0.0  ...   \n",
       "2180                                           0.0  ...   \n",
       "2181                                           0.0  ...   \n",
       "\n",
       "Book_Title  Zora Hurston and the Chinaberry Tree (Reading Rainbow Book)  \\\n",
       "0                                                         0.0             \n",
       "1                                                         0.0             \n",
       "2                                                         0.0             \n",
       "3                                                         0.0             \n",
       "4                                                         0.0             \n",
       "...                                                       ...             \n",
       "2177                                                      0.0             \n",
       "2178                                                      0.0             \n",
       "2179                                                      0.0             \n",
       "2180                                                      0.0             \n",
       "2181                                                      0.0             \n",
       "\n",
       "Book_Title  \\Even Monkeys Fall from Trees\\ and Other Japanese Proverbs  \\\n",
       "0                                                         0.0            \n",
       "1                                                         0.0            \n",
       "2                                                         0.0            \n",
       "3                                                         0.0            \n",
       "4                                                         0.0            \n",
       "...                                                       ...            \n",
       "2177                                                      0.0            \n",
       "2178                                                      0.0            \n",
       "2179                                                      0.0            \n",
       "2180                                                      0.0            \n",
       "2181                                                      0.0            \n",
       "\n",
       "Book_Title  \\I Won't Learn from You\\: And Other Thoughts on Creative Maladjustment  \\\n",
       "0                                                         0.0                        \n",
       "1                                                         0.0                        \n",
       "2                                                         0.0                        \n",
       "3                                                         0.0                        \n",
       "4                                                         0.0                        \n",
       "...                                                       ...                        \n",
       "2177                                                      0.0                        \n",
       "2178                                                      0.0                        \n",
       "2179                                                      0.0                        \n",
       "2180                                                      0.0                        \n",
       "2181                                                      0.0                        \n",
       "\n",
       "Book_Title  \\More More More,\\ Said the Baby  \\O\\ Is for Outlaw  \\\n",
       "0                                       0.0                0.0   \n",
       "1                                       0.0                0.0   \n",
       "2                                       0.0                0.0   \n",
       "3                                       0.0                0.0   \n",
       "4                                       0.0                0.0   \n",
       "...                                     ...                ...   \n",
       "2177                                    0.0                0.0   \n",
       "2178                                    0.0                0.0   \n",
       "2179                                    0.0                0.0   \n",
       "2180                                    0.0                0.0   \n",
       "2181                                    0.0                0.0   \n",
       "\n",
       "Book_Title  \\Surely You're Joking, Mr. Feynman!\\: Adventures of a Curious Character  \\\n",
       "0                                                         0.0                         \n",
       "1                                                         0.0                         \n",
       "2                                                         0.0                         \n",
       "3                                                         0.0                         \n",
       "4                                                         0.0                         \n",
       "...                                                       ...                         \n",
       "2177                                                      0.0                         \n",
       "2178                                                      0.0                         \n",
       "2179                                                      0.0                         \n",
       "2180                                                      0.0                         \n",
       "2181                                                      0.0                         \n",
       "\n",
       "Book_Title  \\Well, there's your problem\\: Cartoons  iI Paradiso Degli Orchi  \\\n",
       "0                                              0.0                      0.0   \n",
       "1                                              0.0                      0.0   \n",
       "2                                              0.0                      0.0   \n",
       "3                                              0.0                      0.0   \n",
       "4                                              0.0                      0.0   \n",
       "...                                            ...                      ...   \n",
       "2177                                           0.0                      0.0   \n",
       "2178                                           0.0                      0.0   \n",
       "2179                                           0.0                      7.0   \n",
       "2180                                           0.0                      0.0   \n",
       "2181                                           0.0                      0.0   \n",
       "\n",
       "Book_Title  stardust  Ã?Â?bermorgen.  \n",
       "0                0.0             0.0  \n",
       "1                0.0             0.0  \n",
       "2                0.0             0.0  \n",
       "3                0.0             0.0  \n",
       "4                0.0             0.0  \n",
       "...              ...             ...  \n",
       "2177             0.0             0.0  \n",
       "2178             0.0             0.0  \n",
       "2179             0.0             0.0  \n",
       "2180             0.0             0.0  \n",
       "2181             0.0             0.0  \n",
       "\n",
       "[2182 rows x 9659 columns]"
      ]
     },
     "execution_count": 17,
     "metadata": {},
     "output_type": "execute_result"
    }
   ],
   "source": [
    "book_df.fillna(0, inplace=True)\n",
    "book_df"
   ]
  },
  {
   "cell_type": "code",
   "execution_count": 18,
   "id": "c1afe6dd",
   "metadata": {
    "ExecuteTime": {
     "end_time": "2021-12-27T08:42:46.946117Z",
     "start_time": "2021-12-27T08:42:46.939111Z"
    }
   },
   "outputs": [
    {
     "name": "stdout",
     "output_type": "stream",
     "text": [
      "7.5663\n"
     ]
    }
   ],
   "source": [
    "AVG = df['Book_Rating'].mean()\n",
    "print(AVG)"
   ]
  },
  {
   "cell_type": "code",
   "execution_count": 19,
   "id": "29a86ec6",
   "metadata": {
    "ExecuteTime": {
     "end_time": "2021-12-27T08:47:20.197869Z",
     "start_time": "2021-12-27T08:47:20.190882Z"
    }
   },
   "outputs": [
    {
     "name": "stdout",
     "output_type": "stream",
     "text": [
      "7.5663\n"
     ]
    }
   ],
   "source": [
    "AVG = df['Book_Rating'].mean()\n",
    "print(AVG)"
   ]
  },
  {
   "cell_type": "code",
   "execution_count": 25,
   "id": "adb583de",
   "metadata": {
    "ExecuteTime": {
     "end_time": "2021-12-27T08:48:22.523836Z",
     "start_time": "2021-12-27T08:48:22.474800Z"
    }
   },
   "outputs": [
    {
     "name": "stdout",
     "output_type": "stream",
     "text": [
      "10.0\n"
     ]
    }
   ],
   "source": [
    "# Calculate the minimum number of votes required to be in the chart, \n",
    "minimum = data['Book_Rating'].quantile(0.90)\n",
    "print(minimum)"
   ]
  },
  {
   "cell_type": "code",
   "execution_count": 26,
   "id": "cffaffab",
   "metadata": {
    "ExecuteTime": {
     "end_time": "2021-12-27T08:48:23.678871Z",
     "start_time": "2021-12-27T08:48:23.665857Z"
    }
   },
   "outputs": [
    {
     "data": {
      "text/plain": [
       "(1732, 3)"
      ]
     },
     "execution_count": 26,
     "metadata": {},
     "output_type": "execute_result"
    }
   ],
   "source": [
    "# Filter out all qualified Books into a new DataFrame\n",
    "q_Books = data.copy().loc[data['Book_Rating'] >= minimum]\n",
    "q_Books.shape"
   ]
  },
  {
   "cell_type": "code",
   "execution_count": 27,
   "id": "2e590a3d",
   "metadata": {
    "ExecuteTime": {
     "end_time": "2021-12-27T08:48:47.684092Z",
     "start_time": "2021-12-27T08:48:24.646415Z"
    }
   },
   "outputs": [],
   "source": [
    "#Calculating Cosine Similarity between Users\n",
    "from sklearn.metrics import pairwise_distances\n",
    "from scipy.spatial.distance import cosine, correlation"
   ]
  },
  {
   "cell_type": "code",
   "execution_count": 28,
   "id": "cabc4aa7",
   "metadata": {
    "ExecuteTime": {
     "end_time": "2021-12-27T08:48:57.938382Z",
     "start_time": "2021-12-27T08:48:51.085451Z"
    }
   },
   "outputs": [
    {
     "data": {
      "text/plain": [
       "(2182, 2182)"
      ]
     },
     "execution_count": 28,
     "metadata": {},
     "output_type": "execute_result"
    }
   ],
   "source": [
    "uc_sim = 1 - pairwise_distances( book_df.values,metric='cosine')\n",
    "uc_sim.shape"
   ]
  },
  {
   "cell_type": "code",
   "execution_count": 29,
   "id": "d4956c9c",
   "metadata": {
    "ExecuteTime": {
     "end_time": "2021-12-27T08:48:59.939204Z",
     "start_time": "2021-12-27T08:48:59.931201Z"
    }
   },
   "outputs": [
    {
     "data": {
      "text/plain": [
       "array([0., 1., 0., ..., 0., 0., 0.])"
      ]
     },
     "execution_count": 29,
     "metadata": {},
     "output_type": "execute_result"
    }
   ],
   "source": [
    "uc_sim[1]"
   ]
  },
  {
   "cell_type": "code",
   "execution_count": 30,
   "id": "a26c56ab",
   "metadata": {
    "ExecuteTime": {
     "end_time": "2021-12-27T08:49:02.423512Z",
     "start_time": "2021-12-27T08:49:02.415522Z"
    }
   },
   "outputs": [],
   "source": [
    "#Store the results in a dataframe\n",
    "uc_sim_df = pd.DataFrame(uc_sim)\n",
    "uc_sim_df.index = df.ID.unique()\n",
    "uc_sim_df.columns = df.ID.unique()"
   ]
  },
  {
   "cell_type": "code",
   "execution_count": 31,
   "id": "b8878aa0",
   "metadata": {
    "ExecuteTime": {
     "end_time": "2021-12-27T08:49:04.035437Z",
     "start_time": "2021-12-27T08:49:03.996408Z"
    }
   },
   "outputs": [
    {
     "data": {
      "text/html": [
       "<div>\n",
       "<style scoped>\n",
       "    .dataframe tbody tr th:only-of-type {\n",
       "        vertical-align: middle;\n",
       "    }\n",
       "\n",
       "    .dataframe tbody tr th {\n",
       "        vertical-align: top;\n",
       "    }\n",
       "\n",
       "    .dataframe thead th {\n",
       "        text-align: right;\n",
       "    }\n",
       "</style>\n",
       "<table border=\"1\" class=\"dataframe\">\n",
       "  <thead>\n",
       "    <tr style=\"text-align: right;\">\n",
       "      <th></th>\n",
       "      <th>276726</th>\n",
       "      <th>276729</th>\n",
       "      <th>276736</th>\n",
       "      <th>276737</th>\n",
       "      <th>276744</th>\n",
       "      <th>276745</th>\n",
       "      <th>276747</th>\n",
       "      <th>276748</th>\n",
       "      <th>276751</th>\n",
       "      <th>276754</th>\n",
       "    </tr>\n",
       "  </thead>\n",
       "  <tbody>\n",
       "    <tr>\n",
       "      <th>276726</th>\n",
       "      <td>1.0</td>\n",
       "      <td>0.0</td>\n",
       "      <td>0.0</td>\n",
       "      <td>0.0</td>\n",
       "      <td>0.0</td>\n",
       "      <td>0.0</td>\n",
       "      <td>0.0</td>\n",
       "      <td>0.0</td>\n",
       "      <td>0.0</td>\n",
       "      <td>0.0</td>\n",
       "    </tr>\n",
       "    <tr>\n",
       "      <th>276729</th>\n",
       "      <td>0.0</td>\n",
       "      <td>1.0</td>\n",
       "      <td>0.0</td>\n",
       "      <td>0.0</td>\n",
       "      <td>0.0</td>\n",
       "      <td>0.0</td>\n",
       "      <td>0.0</td>\n",
       "      <td>0.0</td>\n",
       "      <td>0.0</td>\n",
       "      <td>0.0</td>\n",
       "    </tr>\n",
       "    <tr>\n",
       "      <th>276736</th>\n",
       "      <td>0.0</td>\n",
       "      <td>0.0</td>\n",
       "      <td>1.0</td>\n",
       "      <td>0.0</td>\n",
       "      <td>0.0</td>\n",
       "      <td>0.0</td>\n",
       "      <td>0.0</td>\n",
       "      <td>0.0</td>\n",
       "      <td>0.0</td>\n",
       "      <td>0.0</td>\n",
       "    </tr>\n",
       "    <tr>\n",
       "      <th>276737</th>\n",
       "      <td>0.0</td>\n",
       "      <td>0.0</td>\n",
       "      <td>0.0</td>\n",
       "      <td>1.0</td>\n",
       "      <td>0.0</td>\n",
       "      <td>0.0</td>\n",
       "      <td>0.0</td>\n",
       "      <td>0.0</td>\n",
       "      <td>0.0</td>\n",
       "      <td>0.0</td>\n",
       "    </tr>\n",
       "    <tr>\n",
       "      <th>276744</th>\n",
       "      <td>0.0</td>\n",
       "      <td>0.0</td>\n",
       "      <td>0.0</td>\n",
       "      <td>0.0</td>\n",
       "      <td>1.0</td>\n",
       "      <td>0.0</td>\n",
       "      <td>0.0</td>\n",
       "      <td>0.0</td>\n",
       "      <td>0.0</td>\n",
       "      <td>0.0</td>\n",
       "    </tr>\n",
       "    <tr>\n",
       "      <th>276745</th>\n",
       "      <td>0.0</td>\n",
       "      <td>0.0</td>\n",
       "      <td>0.0</td>\n",
       "      <td>0.0</td>\n",
       "      <td>0.0</td>\n",
       "      <td>1.0</td>\n",
       "      <td>0.0</td>\n",
       "      <td>0.0</td>\n",
       "      <td>0.0</td>\n",
       "      <td>0.0</td>\n",
       "    </tr>\n",
       "    <tr>\n",
       "      <th>276747</th>\n",
       "      <td>0.0</td>\n",
       "      <td>0.0</td>\n",
       "      <td>0.0</td>\n",
       "      <td>0.0</td>\n",
       "      <td>0.0</td>\n",
       "      <td>0.0</td>\n",
       "      <td>1.0</td>\n",
       "      <td>0.0</td>\n",
       "      <td>0.0</td>\n",
       "      <td>0.0</td>\n",
       "    </tr>\n",
       "    <tr>\n",
       "      <th>276748</th>\n",
       "      <td>0.0</td>\n",
       "      <td>0.0</td>\n",
       "      <td>0.0</td>\n",
       "      <td>0.0</td>\n",
       "      <td>0.0</td>\n",
       "      <td>0.0</td>\n",
       "      <td>0.0</td>\n",
       "      <td>1.0</td>\n",
       "      <td>0.0</td>\n",
       "      <td>0.0</td>\n",
       "    </tr>\n",
       "    <tr>\n",
       "      <th>276751</th>\n",
       "      <td>0.0</td>\n",
       "      <td>0.0</td>\n",
       "      <td>0.0</td>\n",
       "      <td>0.0</td>\n",
       "      <td>0.0</td>\n",
       "      <td>0.0</td>\n",
       "      <td>0.0</td>\n",
       "      <td>0.0</td>\n",
       "      <td>1.0</td>\n",
       "      <td>0.0</td>\n",
       "    </tr>\n",
       "    <tr>\n",
       "      <th>276754</th>\n",
       "      <td>0.0</td>\n",
       "      <td>0.0</td>\n",
       "      <td>0.0</td>\n",
       "      <td>0.0</td>\n",
       "      <td>0.0</td>\n",
       "      <td>0.0</td>\n",
       "      <td>0.0</td>\n",
       "      <td>0.0</td>\n",
       "      <td>0.0</td>\n",
       "      <td>1.0</td>\n",
       "    </tr>\n",
       "  </tbody>\n",
       "</table>\n",
       "</div>"
      ],
      "text/plain": [
       "        276726  276729  276736  276737  276744  276745  276747  276748  \\\n",
       "276726     1.0     0.0     0.0     0.0     0.0     0.0     0.0     0.0   \n",
       "276729     0.0     1.0     0.0     0.0     0.0     0.0     0.0     0.0   \n",
       "276736     0.0     0.0     1.0     0.0     0.0     0.0     0.0     0.0   \n",
       "276737     0.0     0.0     0.0     1.0     0.0     0.0     0.0     0.0   \n",
       "276744     0.0     0.0     0.0     0.0     1.0     0.0     0.0     0.0   \n",
       "276745     0.0     0.0     0.0     0.0     0.0     1.0     0.0     0.0   \n",
       "276747     0.0     0.0     0.0     0.0     0.0     0.0     1.0     0.0   \n",
       "276748     0.0     0.0     0.0     0.0     0.0     0.0     0.0     1.0   \n",
       "276751     0.0     0.0     0.0     0.0     0.0     0.0     0.0     0.0   \n",
       "276754     0.0     0.0     0.0     0.0     0.0     0.0     0.0     0.0   \n",
       "\n",
       "        276751  276754  \n",
       "276726     0.0     0.0  \n",
       "276729     0.0     0.0  \n",
       "276736     0.0     0.0  \n",
       "276737     0.0     0.0  \n",
       "276744     0.0     0.0  \n",
       "276745     0.0     0.0  \n",
       "276747     0.0     0.0  \n",
       "276748     0.0     0.0  \n",
       "276751     1.0     0.0  \n",
       "276754     0.0     1.0  "
      ]
     },
     "execution_count": 31,
     "metadata": {},
     "output_type": "execute_result"
    }
   ],
   "source": [
    "uc_sim_df.iloc[0:10, 0:10]"
   ]
  },
  {
   "cell_type": "code",
   "execution_count": 32,
   "id": "576b56a4",
   "metadata": {
    "ExecuteTime": {
     "end_time": "2021-12-27T08:49:06.476587Z",
     "start_time": "2021-12-27T08:49:06.328068Z"
    }
   },
   "outputs": [
    {
     "data": {
      "text/plain": [
       "276726    276726\n",
       "276729    276729\n",
       "276736    276736\n",
       "276737    276737\n",
       "276744    276744\n",
       "           ...  \n",
       "277139    277139\n",
       "277143    277143\n",
       "277157    277157\n",
       "277159    277159\n",
       "277165    277165\n",
       "Length: 125, dtype: int64"
      ]
     },
     "execution_count": 32,
     "metadata": {},
     "output_type": "execute_result"
    }
   ],
   "source": [
    "uc_sim_df.idxmax(axis=1)[0:125]"
   ]
  },
  {
   "cell_type": "code",
   "execution_count": 33,
   "id": "a5c72c4c",
   "metadata": {
    "ExecuteTime": {
     "end_time": "2021-12-27T08:49:07.728740Z",
     "start_time": "2021-12-27T08:49:07.710727Z"
    }
   },
   "outputs": [
    {
     "data": {
      "text/html": [
       "<div>\n",
       "<style scoped>\n",
       "    .dataframe tbody tr th:only-of-type {\n",
       "        vertical-align: middle;\n",
       "    }\n",
       "\n",
       "    .dataframe tbody tr th {\n",
       "        vertical-align: top;\n",
       "    }\n",
       "\n",
       "    .dataframe thead th {\n",
       "        text-align: right;\n",
       "    }\n",
       "</style>\n",
       "<table border=\"1\" class=\"dataframe\">\n",
       "  <thead>\n",
       "    <tr style=\"text-align: right;\">\n",
       "      <th></th>\n",
       "      <th>ID</th>\n",
       "      <th>Book_Title</th>\n",
       "      <th>Book_Rating</th>\n",
       "    </tr>\n",
       "  </thead>\n",
       "  <tbody>\n",
       "    <tr>\n",
       "      <th>0</th>\n",
       "      <td>276726</td>\n",
       "      <td>Classical Mythology</td>\n",
       "      <td>5</td>\n",
       "    </tr>\n",
       "    <tr>\n",
       "      <th>2413</th>\n",
       "      <td>17</td>\n",
       "      <td>Conversations With Dogbert: A Dilbert Book</td>\n",
       "      <td>7</td>\n",
       "    </tr>\n",
       "    <tr>\n",
       "      <th>2414</th>\n",
       "      <td>17</td>\n",
       "      <td>The Dilbert Bunch: A Dilbert Book (Main Street...</td>\n",
       "      <td>5</td>\n",
       "    </tr>\n",
       "    <tr>\n",
       "      <th>2415</th>\n",
       "      <td>17</td>\n",
       "      <td>You Don't Need Experience if You've Got Attitude</td>\n",
       "      <td>6</td>\n",
       "    </tr>\n",
       "    <tr>\n",
       "      <th>2416</th>\n",
       "      <td>17</td>\n",
       "      <td>The Boss: Nameless, Blameless and Shameless (A...</td>\n",
       "      <td>3</td>\n",
       "    </tr>\n",
       "  </tbody>\n",
       "</table>\n",
       "</div>"
      ],
      "text/plain": [
       "          ID                                         Book_Title  Book_Rating\n",
       "0     276726                                Classical Mythology            5\n",
       "2413      17         Conversations With Dogbert: A Dilbert Book            7\n",
       "2414      17  The Dilbert Bunch: A Dilbert Book (Main Street...            5\n",
       "2415      17   You Don't Need Experience if You've Got Attitude            6\n",
       "2416      17  The Boss: Nameless, Blameless and Shameless (A...            3"
      ]
     },
     "execution_count": 33,
     "metadata": {},
     "output_type": "execute_result"
    }
   ],
   "source": [
    "users=df[(df['ID']==276726) | (df['ID']==17)]\n",
    "users"
   ]
  },
  {
   "cell_type": "code",
   "execution_count": 34,
   "id": "de87dca1",
   "metadata": {
    "ExecuteTime": {
     "end_time": "2021-12-27T08:49:08.870017Z",
     "start_time": "2021-12-27T08:49:08.851004Z"
    }
   },
   "outputs": [
    {
     "data": {
      "text/html": [
       "<div>\n",
       "<style scoped>\n",
       "    .dataframe tbody tr th:only-of-type {\n",
       "        vertical-align: middle;\n",
       "    }\n",
       "\n",
       "    .dataframe tbody tr th {\n",
       "        vertical-align: top;\n",
       "    }\n",
       "\n",
       "    .dataframe thead th {\n",
       "        text-align: right;\n",
       "    }\n",
       "</style>\n",
       "<table border=\"1\" class=\"dataframe\">\n",
       "  <thead>\n",
       "    <tr style=\"text-align: right;\">\n",
       "      <th></th>\n",
       "      <th>ID</th>\n",
       "      <th>Book_Title</th>\n",
       "      <th>Book_Rating</th>\n",
       "    </tr>\n",
       "  </thead>\n",
       "  <tbody>\n",
       "    <tr>\n",
       "      <th>0</th>\n",
       "      <td>276726</td>\n",
       "      <td>Classical Mythology</td>\n",
       "      <td>5</td>\n",
       "    </tr>\n",
       "  </tbody>\n",
       "</table>\n",
       "</div>"
      ],
      "text/plain": [
       "       ID           Book_Title  Book_Rating\n",
       "0  276726  Classical Mythology            5"
      ]
     },
     "execution_count": 34,
     "metadata": {},
     "output_type": "execute_result"
    }
   ],
   "source": [
    "user_1=df[(df['ID']==276726)] \n",
    "user_1"
   ]
  },
  {
   "cell_type": "code",
   "execution_count": 35,
   "id": "6ab5d000",
   "metadata": {
    "ExecuteTime": {
     "end_time": "2021-12-27T08:49:09.931193Z",
     "start_time": "2021-12-27T08:49:09.912179Z"
    }
   },
   "outputs": [
    {
     "data": {
      "text/html": [
       "<div>\n",
       "<style scoped>\n",
       "    .dataframe tbody tr th:only-of-type {\n",
       "        vertical-align: middle;\n",
       "    }\n",
       "\n",
       "    .dataframe tbody tr th {\n",
       "        vertical-align: top;\n",
       "    }\n",
       "\n",
       "    .dataframe thead th {\n",
       "        text-align: right;\n",
       "    }\n",
       "</style>\n",
       "<table border=\"1\" class=\"dataframe\">\n",
       "  <thead>\n",
       "    <tr style=\"text-align: right;\">\n",
       "      <th></th>\n",
       "      <th>ID</th>\n",
       "      <th>Book_Title</th>\n",
       "      <th>Book_Rating</th>\n",
       "    </tr>\n",
       "  </thead>\n",
       "  <tbody>\n",
       "    <tr>\n",
       "      <th>2413</th>\n",
       "      <td>17</td>\n",
       "      <td>Conversations With Dogbert: A Dilbert Book</td>\n",
       "      <td>7</td>\n",
       "    </tr>\n",
       "    <tr>\n",
       "      <th>2414</th>\n",
       "      <td>17</td>\n",
       "      <td>The Dilbert Bunch: A Dilbert Book (Main Street...</td>\n",
       "      <td>5</td>\n",
       "    </tr>\n",
       "    <tr>\n",
       "      <th>2415</th>\n",
       "      <td>17</td>\n",
       "      <td>You Don't Need Experience if You've Got Attitude</td>\n",
       "      <td>6</td>\n",
       "    </tr>\n",
       "    <tr>\n",
       "      <th>2416</th>\n",
       "      <td>17</td>\n",
       "      <td>The Boss: Nameless, Blameless and Shameless (A...</td>\n",
       "      <td>3</td>\n",
       "    </tr>\n",
       "  </tbody>\n",
       "</table>\n",
       "</div>"
      ],
      "text/plain": [
       "      ID                                         Book_Title  Book_Rating\n",
       "2413  17         Conversations With Dogbert: A Dilbert Book            7\n",
       "2414  17  The Dilbert Bunch: A Dilbert Book (Main Street...            5\n",
       "2415  17   You Don't Need Experience if You've Got Attitude            6\n",
       "2416  17  The Boss: Nameless, Blameless and Shameless (A...            3"
      ]
     },
     "execution_count": 35,
     "metadata": {},
     "output_type": "execute_result"
    }
   ],
   "source": [
    "user_2=df[(df['ID']==17)] \n",
    "user_2"
   ]
  },
  {
   "cell_type": "code",
   "execution_count": 36,
   "id": "4a67cf54",
   "metadata": {
    "ExecuteTime": {
     "end_time": "2021-12-27T08:49:11.054508Z",
     "start_time": "2021-12-27T08:49:11.025486Z"
    }
   },
   "outputs": [],
   "source": [
    "indices = pd.Series(df.index, index=df['Book_Title']).drop_duplicates()"
   ]
  },
  {
   "cell_type": "code",
   "execution_count": 37,
   "id": "25548d75",
   "metadata": {
    "ExecuteTime": {
     "end_time": "2021-12-27T08:49:13.566297Z",
     "start_time": "2021-12-27T08:49:13.556291Z"
    }
   },
   "outputs": [
    {
     "data": {
      "text/plain": [
       "Book_Title\n",
       "Classical Mythology                                                                                   0\n",
       "Clara Callan                                                                                          1\n",
       "Decision in Normandy                                                                                  2\n",
       "Flu: The Story of the Great Influenza Pandemic of 1918 and the Search for the Virus That Caused It    3\n",
       "The Mummies of Urumchi                                                                                4\n",
       "The Kitchen God's Wife                                                                                5\n",
       "What If?: The World's Foremost Military Historians Imagine What Might Have Been                       6\n",
       "PLEADING GUILTY                                                                                       7\n",
       "Under the Black Flag: The Romance and the Reality of Life Among the Pirates                           8\n",
       "Where You'll Find Me: And Other Stories                                                               9\n",
       "dtype: int64"
      ]
     },
     "execution_count": 37,
     "metadata": {},
     "output_type": "execute_result"
    }
   ],
   "source": [
    "indices[:10]"
   ]
  },
  {
   "cell_type": "code",
   "execution_count": 40,
   "id": "97217493",
   "metadata": {
    "ExecuteTime": {
     "end_time": "2021-12-27T08:50:38.338344Z",
     "start_time": "2021-12-27T08:50:38.267210Z"
    }
   },
   "outputs": [],
   "source": [
    "# Function that takes in movie title as input and outputs most similar movies\n",
    "def get_recommendations(Book_Title, cosine_sim=uc_sim):\n",
    "    # Get the index of the books that matches the title\n",
    "    idx = indices[Book_Title]\n",
    "\n",
    "    # Get the pairwsie similarity scores of all books with that books\n",
    "    sim_scores = list(enumerate(cosine_sim[idx]))\n",
    "\n",
    "    # Sort the books based on the similarity scores\n",
    "    sim_scores = sorted(sim_scores, key=lambda x: x[1], reverse=True)\n",
    "\n",
    "    # Get the scores of the 10 most similar books\n",
    "    sim_scores = sim_scores[0:11]\n",
    "\n",
    "    # Get the book indices\n",
    "    books_indices = [i[0] for i in sim_scores]\n",
    "\n",
    "    # Return the top 10 most similar books\n",
    "    return df['Book_Title'].iloc[books_indices]"
   ]
  },
  {
   "cell_type": "code",
   "execution_count": 41,
   "id": "3ee97c6a",
   "metadata": {
    "ExecuteTime": {
     "end_time": "2021-12-27T08:50:40.839097Z",
     "start_time": "2021-12-27T08:50:40.828087Z"
    }
   },
   "outputs": [
    {
     "data": {
      "text/plain": [
       "8     Under the Black Flag: The Romance and the Real...\n",
       "0                                   Classical Mythology\n",
       "1                                          Clara Callan\n",
       "2                                  Decision in Normandy\n",
       "3     Flu: The Story of the Great Influenza Pandemic...\n",
       "4                                The Mummies of Urumchi\n",
       "5                                The Kitchen God's Wife\n",
       "6     What If?: The World's Foremost Military Histor...\n",
       "7                                       PLEADING GUILTY\n",
       "9               Where You'll Find Me: And Other Stories\n",
       "10                          Nights Below Station Street\n",
       "Name: Book_Title, dtype: object"
      ]
     },
     "execution_count": 41,
     "metadata": {},
     "output_type": "execute_result"
    }
   ],
   "source": [
    "a=get_recommendations('Under the Black Flag: The Romance and the Reality of Life Among the Pirates')\n",
    "a"
   ]
  },
  {
   "cell_type": "code",
   "execution_count": 42,
   "id": "75e2e4bc",
   "metadata": {
    "ExecuteTime": {
     "end_time": "2021-12-27T08:50:41.908043Z",
     "start_time": "2021-12-27T08:50:41.898039Z"
    }
   },
   "outputs": [
    {
     "data": {
      "text/plain": [
       "0                                   Classical Mythology\n",
       "1                                          Clara Callan\n",
       "2                                  Decision in Normandy\n",
       "3     Flu: The Story of the Great Influenza Pandemic...\n",
       "4                                The Mummies of Urumchi\n",
       "5                                The Kitchen God's Wife\n",
       "6     What If?: The World's Foremost Military Histor...\n",
       "7                                       PLEADING GUILTY\n",
       "8     Under the Black Flag: The Romance and the Real...\n",
       "9               Where You'll Find Me: And Other Stories\n",
       "10                          Nights Below Station Street\n",
       "Name: Book_Title, dtype: object"
      ]
     },
     "execution_count": 42,
     "metadata": {},
     "output_type": "execute_result"
    }
   ],
   "source": [
    "b=get_recommendations('Classical Mythology')\n",
    "b"
   ]
  },
  {
   "cell_type": "code",
   "execution_count": 43,
   "id": "c5bb050f",
   "metadata": {
    "ExecuteTime": {
     "end_time": "2021-12-27T08:50:43.335469Z",
     "start_time": "2021-12-27T08:50:43.009027Z"
    }
   },
   "outputs": [
    {
     "data": {
      "text/html": [
       "<div>\n",
       "<style scoped>\n",
       "    .dataframe tbody tr th:only-of-type {\n",
       "        vertical-align: middle;\n",
       "    }\n",
       "\n",
       "    .dataframe tbody tr th {\n",
       "        vertical-align: top;\n",
       "    }\n",
       "\n",
       "    .dataframe thead th {\n",
       "        text-align: right;\n",
       "    }\n",
       "</style>\n",
       "<table border=\"1\" class=\"dataframe\">\n",
       "  <thead>\n",
       "    <tr style=\"text-align: right;\">\n",
       "      <th></th>\n",
       "      <th>ID_x</th>\n",
       "      <th>Book_Title_x</th>\n",
       "      <th>Book_Rating</th>\n",
       "      <th>ID_y</th>\n",
       "      <th>Book_Title_y</th>\n",
       "    </tr>\n",
       "  </thead>\n",
       "  <tbody>\n",
       "    <tr>\n",
       "      <th>0</th>\n",
       "      <td>276726.0</td>\n",
       "      <td>Classical Mythology</td>\n",
       "      <td>5</td>\n",
       "      <td>17</td>\n",
       "      <td>The Dilbert Bunch: A Dilbert Book (Main Street...</td>\n",
       "    </tr>\n",
       "    <tr>\n",
       "      <th>1</th>\n",
       "      <td>NaN</td>\n",
       "      <td>NaN</td>\n",
       "      <td>7</td>\n",
       "      <td>17</td>\n",
       "      <td>Conversations With Dogbert: A Dilbert Book</td>\n",
       "    </tr>\n",
       "    <tr>\n",
       "      <th>2</th>\n",
       "      <td>NaN</td>\n",
       "      <td>NaN</td>\n",
       "      <td>6</td>\n",
       "      <td>17</td>\n",
       "      <td>You Don't Need Experience if You've Got Attitude</td>\n",
       "    </tr>\n",
       "    <tr>\n",
       "      <th>3</th>\n",
       "      <td>NaN</td>\n",
       "      <td>NaN</td>\n",
       "      <td>3</td>\n",
       "      <td>17</td>\n",
       "      <td>The Boss: Nameless, Blameless and Shameless (A...</td>\n",
       "    </tr>\n",
       "  </tbody>\n",
       "</table>\n",
       "</div>"
      ],
      "text/plain": [
       "       ID_x         Book_Title_x  Book_Rating  ID_y  \\\n",
       "0  276726.0  Classical Mythology            5    17   \n",
       "1       NaN                  NaN            7    17   \n",
       "2       NaN                  NaN            6    17   \n",
       "3       NaN                  NaN            3    17   \n",
       "\n",
       "                                        Book_Title_y  \n",
       "0  The Dilbert Bunch: A Dilbert Book (Main Street...  \n",
       "1         Conversations With Dogbert: A Dilbert Book  \n",
       "2   You Don't Need Experience if You've Got Attitude  \n",
       "3  The Boss: Nameless, Blameless and Shameless (A...  "
      ]
     },
     "execution_count": 43,
     "metadata": {},
     "output_type": "execute_result"
    }
   ],
   "source": [
    "pd.merge(user_1,user_2,on='Book_Rating',how='outer')"
   ]
  },
  {
   "cell_type": "code",
   "execution_count": 44,
   "id": "efa77e1e",
   "metadata": {
    "ExecuteTime": {
     "end_time": "2021-12-27T08:50:44.494717Z",
     "start_time": "2021-12-27T08:50:44.490718Z"
    }
   },
   "outputs": [],
   "source": [
    "book_user_rating = book_df[\"You Don't Need Experience if You've Got Attitude\"]  "
   ]
  },
  {
   "cell_type": "code",
   "execution_count": 45,
   "id": "8f401de8",
   "metadata": {
    "ExecuteTime": {
     "end_time": "2021-12-27T08:50:45.462643Z",
     "start_time": "2021-12-27T08:50:45.451631Z"
    }
   },
   "outputs": [
    {
     "data": {
      "text/plain": [
       "0       0.0\n",
       "1       0.0\n",
       "2       0.0\n",
       "3       0.0\n",
       "4       0.0\n",
       "       ... \n",
       "2177    0.0\n",
       "2178    0.0\n",
       "2179    0.0\n",
       "2180    0.0\n",
       "2181    0.0\n",
       "Name: You Don't Need Experience if You've Got Attitude, Length: 2182, dtype: float64"
      ]
     },
     "execution_count": 45,
     "metadata": {},
     "output_type": "execute_result"
    }
   ],
   "source": [
    "book_user_rating"
   ]
  },
  {
   "cell_type": "code",
   "execution_count": 46,
   "id": "f01ba58a",
   "metadata": {
    "ExecuteTime": {
     "end_time": "2021-12-27T08:50:52.576133Z",
     "start_time": "2021-12-27T08:50:46.583548Z"
    }
   },
   "outputs": [],
   "source": [
    "#Finding the correlation with different movies\n",
    "similar_to_book = book_df.corrwith(book_user_rating) "
   ]
  },
  {
   "cell_type": "code",
   "execution_count": 47,
   "id": "438efcb8",
   "metadata": {
    "ExecuteTime": {
     "end_time": "2021-12-27T08:50:53.661092Z",
     "start_time": "2021-12-27T08:50:53.634074Z"
    }
   },
   "outputs": [
    {
     "data": {
      "text/html": [
       "<div>\n",
       "<style scoped>\n",
       "    .dataframe tbody tr th:only-of-type {\n",
       "        vertical-align: middle;\n",
       "    }\n",
       "\n",
       "    .dataframe tbody tr th {\n",
       "        vertical-align: top;\n",
       "    }\n",
       "\n",
       "    .dataframe thead th {\n",
       "        text-align: right;\n",
       "    }\n",
       "</style>\n",
       "<table border=\"1\" class=\"dataframe\">\n",
       "  <thead>\n",
       "    <tr style=\"text-align: right;\">\n",
       "      <th></th>\n",
       "      <th>Correlation</th>\n",
       "    </tr>\n",
       "    <tr>\n",
       "      <th>Book_Title</th>\n",
       "      <th></th>\n",
       "    </tr>\n",
       "  </thead>\n",
       "  <tbody>\n",
       "    <tr>\n",
       "      <th>Jason, Madison &amp;amp</th>\n",
       "      <td>-0.000459</td>\n",
       "    </tr>\n",
       "    <tr>\n",
       "      <th>Other Stories;Merril;1985;McClelland &amp;amp</th>\n",
       "      <td>-0.000459</td>\n",
       "    </tr>\n",
       "    <tr>\n",
       "      <th>Repairing PC Drives &amp;amp</th>\n",
       "      <td>-0.000459</td>\n",
       "    </tr>\n",
       "    <tr>\n",
       "      <th>'48</th>\n",
       "      <td>-0.000459</td>\n",
       "    </tr>\n",
       "    <tr>\n",
       "      <th>'O Au No Keia: Voices from Hawai'I's Mahu and Transgender Communities</th>\n",
       "      <td>-0.000459</td>\n",
       "    </tr>\n",
       "  </tbody>\n",
       "</table>\n",
       "</div>"
      ],
      "text/plain": [
       "                                                    Correlation\n",
       "Book_Title                                                     \n",
       " Jason, Madison &amp                                  -0.000459\n",
       " Other Stories;Merril;1985;McClelland &amp            -0.000459\n",
       " Repairing PC Drives &amp                             -0.000459\n",
       "'48                                                   -0.000459\n",
       "'O Au No Keia: Voices from Hawai'I's Mahu and T...    -0.000459"
      ]
     },
     "execution_count": 47,
     "metadata": {},
     "output_type": "execute_result"
    }
   ],
   "source": [
    "corr_book = pd.DataFrame(similar_to_book, columns=['Correlation'])\n",
    "corr_book.dropna(inplace=True)\n",
    "corr_book.head()"
   ]
  },
  {
   "cell_type": "code",
   "execution_count": 48,
   "id": "575c1957",
   "metadata": {
    "ExecuteTime": {
     "end_time": "2021-12-27T08:50:55.303143Z",
     "start_time": "2021-12-27T08:50:55.286148Z"
    }
   },
   "outputs": [
    {
     "data": {
      "text/html": [
       "<div>\n",
       "<style scoped>\n",
       "    .dataframe tbody tr th:only-of-type {\n",
       "        vertical-align: middle;\n",
       "    }\n",
       "\n",
       "    .dataframe tbody tr th {\n",
       "        vertical-align: top;\n",
       "    }\n",
       "\n",
       "    .dataframe thead th {\n",
       "        text-align: right;\n",
       "    }\n",
       "</style>\n",
       "<table border=\"1\" class=\"dataframe\">\n",
       "  <thead>\n",
       "    <tr style=\"text-align: right;\">\n",
       "      <th></th>\n",
       "      <th>Correlation</th>\n",
       "    </tr>\n",
       "    <tr>\n",
       "      <th>Book_Title</th>\n",
       "      <th></th>\n",
       "    </tr>\n",
       "  </thead>\n",
       "  <tbody>\n",
       "    <tr>\n",
       "      <th>Conversations With Dogbert: A Dilbert Book</th>\n",
       "      <td>1.0</td>\n",
       "    </tr>\n",
       "    <tr>\n",
       "      <th>The Boss: Nameless, Blameless and Shameless (Adams, Scott, Dilbert Book,)</th>\n",
       "      <td>1.0</td>\n",
       "    </tr>\n",
       "    <tr>\n",
       "      <th>The Dilbert Bunch: A Dilbert Book (Main Street Editions)</th>\n",
       "      <td>1.0</td>\n",
       "    </tr>\n",
       "    <tr>\n",
       "      <th>You Don't Need Experience if You've Got Attitude</th>\n",
       "      <td>1.0</td>\n",
       "    </tr>\n",
       "  </tbody>\n",
       "</table>\n",
       "</div>"
      ],
      "text/plain": [
       "                                                    Correlation\n",
       "Book_Title                                                     \n",
       "Conversations With Dogbert: A Dilbert Book                  1.0\n",
       "The Boss: Nameless, Blameless and Shameless (Ad...          1.0\n",
       "The Dilbert Bunch: A Dilbert Book (Main Street ...          1.0\n",
       "You Don't Need Experience if You've Got Attitude            1.0"
      ]
     },
     "execution_count": 48,
     "metadata": {},
     "output_type": "execute_result"
    }
   ],
   "source": [
    "corr_book[corr_book['Correlation'] > 0].sort_values(by='Correlation', ascending=False).head(10)  "
   ]
  },
  {
   "cell_type": "code",
   "execution_count": 49,
   "id": "e93ee1a5",
   "metadata": {
    "ExecuteTime": {
     "end_time": "2021-12-27T08:50:56.808462Z",
     "start_time": "2021-12-27T08:50:56.748406Z"
    }
   },
   "outputs": [],
   "source": [
    "ratings_mean_count = pd.DataFrame(df.groupby('Book_Title')['Book_Rating'].mean())\n",
    "ratings_mean_count['rating_counts'] = pd.DataFrame(df.groupby('Book_Title')['Book_Rating'].count())"
   ]
  },
  {
   "cell_type": "code",
   "execution_count": 50,
   "id": "9b3e9d9d",
   "metadata": {
    "ExecuteTime": {
     "end_time": "2021-12-27T08:50:58.636548Z",
     "start_time": "2021-12-27T08:50:58.579440Z"
    }
   },
   "outputs": [],
   "source": [
    "plt.style.use('dark_background')"
   ]
  },
  {
   "cell_type": "code",
   "execution_count": 51,
   "id": "ac0c8c70",
   "metadata": {
    "ExecuteTime": {
     "end_time": "2021-12-27T08:51:05.285190Z",
     "start_time": "2021-12-27T08:51:00.341201Z"
    }
   },
   "outputs": [
    {
     "data": {
      "text/plain": [
       "<AxesSubplot:>"
      ]
     },
     "execution_count": 51,
     "metadata": {},
     "output_type": "execute_result"
    },
    {
     "data": {
      "image/png": "[encoded data removed]",
      "text/plain": [
       "<Figure size 576x432 with 1 Axes>"
      ]
     },
     "metadata": {
      "needs_background": "dark"
     },
     "output_type": "display_data"
    }
   ],
   "source": [
    "import matplotlib.pyplot as plt\n",
    "import seaborn as sns\n",
    "%matplotlib inline\n",
    "\n",
    "plt.figure(figsize=(8,6))\n",
    "plt.rcParams['patch.force_edgecolor'] = True\n",
    "ratings_mean_count['rating_counts'].hist(bins=10)"
   ]
  },
  {
   "cell_type": "code",
   "execution_count": 52,
   "id": "2b3dcf5b",
   "metadata": {
    "ExecuteTime": {
     "end_time": "2021-12-27T08:51:21.519782Z",
     "start_time": "2021-12-27T08:51:21.193568Z"
    }
   },
   "outputs": [
    {
     "data": {
      "text/plain": [
       "<AxesSubplot:>"
      ]
     },
     "execution_count": 52,
     "metadata": {},
     "output_type": "execute_result"
    },
    {
     "data": {
      "image/png": "[encoded data removed]",
      "text/plain": [
       "<Figure size 576x432 with 1 Axes>"
      ]
     },
     "metadata": {
      "needs_background": "dark"
     },
     "output_type": "display_data"
    }
   ],
   "source": [
    "plt.figure(figsize=(8,6))\n",
    "plt.rcParams['patch.force_edgecolor'] = True\n",
    "ratings_mean_count['Book_Rating'].hist(bins=10)"
   ]
  },
  {
   "cell_type": "code",
   "execution_count": null,
   "id": "0fb6208c",
   "metadata": {},
   "outputs": [],
   "source": [
    "plt.figure(figsize=(8,6))\n",
    "plt.rcParams['patch.force_edgecolor'] = True\n",
    "sns.jointplot(x='Book_Rating', y='rating_counts', data=ratings_mean_count, alpha=0.4)"
   ]
  },
  {
   "cell_type": "markdown",
   "id": "6d448730",
   "metadata": {},
   "source": [
    "#Outcomes\n",
    "From the output you can see that the Books that have high correlation with \" are not very well known.\n",
    "\n",
    "This shows that correlation alone is not a good metric for similarity because there can be a user who wished to take those books and only other books and rated them same."
   ]
  },
  {
   "cell_type": "code",
   "execution_count": null,
   "id": "a414a644",
   "metadata": {},
   "outputs": [],
   "source": []
  }
 ],
 "metadata": {
  "kernelspec": {
   "display_name": "Python 3",
   "language": "python",
   "name": "python3"
  },
  "language_info": {
   "codemirror_mode": {
    "name": "ipython",
    "version": 3
   },
   "file_extension": ".py",
   "mimetype": "text/x-python",
   "name": "python",
   "nbconvert_exporter": "python",
   "pygments_lexer": "ipython3",
   "version": "3.8.8"
  },
  "varInspector": {
   "cols": {
    "lenName": 16,
    "lenType": 16,
    "lenVar": 40
   },
   "kernels_config": {
    "python": {
     "delete_cmd_postfix": "",
     "delete_cmd_prefix": "del ",
     "library": "var_list.py",
     "varRefreshCmd": "print(var_dic_list())"
    },
    "r": {
     "delete_cmd_postfix": ") ",
     "delete_cmd_prefix": "rm(",
     "library": "var_list.r",
     "varRefreshCmd": "cat(var_dic_list()) "
    }
   },
   "types_to_exclude": [
    "module",
    "function",
    "builtin_function_or_method",
    "instance",
    "_Feature"
   ],
   "window_display": false
  }
 },
 "nbformat": 4,
 "nbformat_minor": 5
}
